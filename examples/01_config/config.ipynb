{
 "cells": [
  {
   "cell_type": "code",
   "execution_count": 1,
   "metadata": {},
   "outputs": [],
   "source": [
    "from encodapy.config import ConfigModel"
   ]
  },
  {
   "cell_type": "code",
   "execution_count": 2,
   "metadata": {},
   "outputs": [
    {
     "name": "stderr",
     "output_type": "stream",
     "text": [
      "2025-03-07 13:09:58.179 | DEBUG    | encodapy.config.models:check_timestep_units:226 - No timestep is set - using default value '1'\n",
      "2025-03-07 13:09:58.183 | DEBUG    | encodapy.config.models:check_timestep_units:228 - No timestep unit is set - using default unit 'second'\n",
      "2025-03-07 13:09:58.183 | DEBUG    | encodapy.config.models:check_timestep_units:230 - No sampling time is set - using default value '1'\n",
      "2025-03-07 13:09:58.183 | DEBUG    | encodapy.config.models:check_timestep_units:232 - No sampling time unit is set - using default unit 'minute'\n",
      "2025-03-07 13:09:58.183 | DEBUG    | encodapy.config.models:check_timestep_units:236 - No timerange type is set - using default type 'absolute'\n"
     ]
    },
    {
     "name": "stdout",
     "output_type": "stream",
     "text": [
      "interfaces=InterfaceModel(mqtt=False, fiware=True, file=False) inputs=[InputModel(id='input_fiware_01', interface=<Interfaces.FIWARE: 'fiware'>, id_interface='urn:input_fiware:01', attributes=[AttributeModel(id='temperature', id_interface='temperature', type=<AttributeTypes.TIMESERIES: 'timeseries'>, value=None, unit=None, datatype=<DataType.NUMBER: 'Number'>, timestamp=None), AttributeModel(id='power', id_interface='power', type=<AttributeTypes.VALUE: 'value'>, value=None, unit=None, datatype=<DataType.NUMBER: 'Number'>, timestamp=None)])] outputs=[OutputModel(id='xyz_calculation', interface=<Interfaces.FIWARE: 'fiware'>, id_interface='urn:xyz_calculation', attributes=[AttributeModel(id='temperature', id_interface='temperature_1', type=<AttributeTypes.VALUE: 'value'>, value=None, unit=None, datatype=<DataType.NUMBER: 'Number'>, timestamp=None), AttributeModel(id='heat', id_interface='heat_1', type=<AttributeTypes.TIMESERIES: 'timeseries'>, value=None, unit=None, datatype=<DataType.NUMBER: 'Number'>, timestamp=None)], commands=[CommandModel(id='hygienic_status', id_interface='dhw:hygienic_status', value=None)])] staticdata=[] controller_components=[ControllerComponentModel(active=True, id='hygienic_controller', type='hygienic_controller', inputs={'temperature': {'entity': 'dhw_calculation', 'attribute': 'temperature'}, 'tappings': {'entity': 'dhw_calculation', 'attribute': 'tapping'}}, outputs={'hygienic_status': {'entity': 'xyz_calculation', 'attribute': 'temperature'}, 'hygienic_data': {'entity': 'xyz_calculation', 'attribute': 'heat'}}, config={'temperatures': {'warning_limit': 45, 'optimal_limit': 55}, 'time_of_stay': {'stay_limit': 24, 'tapping_limit': 5}})] controller_settings=ControllerSettingModel(time_settings=TimeSettingsModel(calculation=TimeSettingsCalculationModel(timerange=24.0, timerange_min=None, timerange_max=None, timerange_type=<TimerangeTypes.ABSOLUTE: 'absolute'>, timerange_unit=<TimeUnits.HOUR: 'hour'>, timestep=1, timestep_unit=<TimeUnits.SECOND: 'second'>, sampling_time=1, sampling_time_unit=<TimeUnits.MINUTE: 'minute'>), calibration=None, results=TimeSettingsResultsModel(timestep=10, timestep_unit=<TimeUnits.SECOND: 'second'>)), specific_settings={})\n",
      "False\n",
      "[InputModel(id='input_fiware_01', interface=<Interfaces.FIWARE: 'fiware'>, id_interface='urn:input_fiware:01', attributes=[AttributeModel(id='temperature', id_interface='temperature', type=<AttributeTypes.TIMESERIES: 'timeseries'>, value=None, unit=None, datatype=<DataType.NUMBER: 'Number'>, timestamp=None), AttributeModel(id='power', id_interface='power', type=<AttributeTypes.VALUE: 'value'>, value=None, unit=None, datatype=<DataType.NUMBER: 'Number'>, timestamp=None)])]\n",
      "[AttributeModel(id='temperature', id_interface='temperature', type=<AttributeTypes.TIMESERIES: 'timeseries'>, value=None, unit=None, datatype=<DataType.NUMBER: 'Number'>, timestamp=None), AttributeModel(id='power', id_interface='power', type=<AttributeTypes.VALUE: 'value'>, value=None, unit=None, datatype=<DataType.NUMBER: 'Number'>, timestamp=None)]\n",
      "[ControllerComponentModel(active=True, id='hygienic_controller', type='hygienic_controller', inputs={'temperature': {'entity': 'dhw_calculation', 'attribute': 'temperature'}, 'tappings': {'entity': 'dhw_calculation', 'attribute': 'tapping'}}, outputs={'hygienic_status': {'entity': 'xyz_calculation', 'attribute': 'temperature'}, 'hygienic_data': {'entity': 'xyz_calculation', 'attribute': 'heat'}}, config={'temperatures': {'warning_limit': 45, 'optimal_limit': 55}, 'time_of_stay': {'stay_limit': 24, 'tapping_limit': 5}})]\n",
      "active=True id='hygienic_controller' type='hygienic_controller' inputs={'temperature': {'entity': 'dhw_calculation', 'attribute': 'temperature'}, 'tappings': {'entity': 'dhw_calculation', 'attribute': 'tapping'}} outputs={'hygienic_status': {'entity': 'xyz_calculation', 'attribute': 'temperature'}, 'hygienic_data': {'entity': 'xyz_calculation', 'attribute': 'heat'}} config={'temperatures': {'warning_limit': 45, 'optimal_limit': 55}, 'time_of_stay': {'stay_limit': 24, 'tapping_limit': 5}}\n",
      "calculation=TimeSettingsCalculationModel(timerange=24.0, timerange_min=None, timerange_max=None, timerange_type=<TimerangeTypes.ABSOLUTE: 'absolute'>, timerange_unit=<TimeUnits.HOUR: 'hour'>, timestep=1, timestep_unit=<TimeUnits.SECOND: 'second'>, sampling_time=1, sampling_time_unit=<TimeUnits.MINUTE: 'minute'>) calibration=None results=TimeSettingsResultsModel(timestep=10, timestep_unit=<TimeUnits.SECOND: 'second'>)\n"
     ]
    }
   ],
   "source": [
    "config = ConfigModel.from_json('config.json')\n",
    "print(config)\n",
    "\n",
    "print(config.interfaces.file)\n",
    "\n",
    "print(config.inputs)\n",
    "\n",
    "print(config.inputs[0].attributes)\n",
    "\n",
    "print(config.controller_components)\n",
    "\n",
    "for controller in config.controller_components:\n",
    "    print(controller)\n",
    "    \n",
    "print(config.controller_settings.time_settings)"
   ]
  },
  {
   "cell_type": "code",
   "execution_count": 3,
   "metadata": {},
   "outputs": [
    {
     "name": "stdout",
     "output_type": "stream",
     "text": [
      "id='test_input' attributes=[InputDataAttributeModel(id='test_attribute', data='test', unit=None, data_type=<AttributeTypes.VALUE: 'value'>, data_available=True, latest_timestamp_input=datetime.datetime(2025, 3, 7, 12, 9, 58, 223416, tzinfo=datetime.timezone.utc))]\n",
      "id='test_output' attributes=[] attributes_status=[OutputDataAttributeModel(id='test_attribute', latest_timestamp_output=datetime.datetime(2025, 3, 7, 12, 9, 58, 223898, tzinfo=datetime.timezone.utc))] commands=[]\n",
      "input_entities=[InputDataEntityModel(id='test_input', attributes=[InputDataAttributeModel(id='test_attribute', data='test', unit=None, data_type=<AttributeTypes.VALUE: 'value'>, data_available=True, latest_timestamp_input=datetime.datetime(2025, 3, 7, 12, 9, 58, 223416, tzinfo=datetime.timezone.utc))]), InputDataEntityModel(id='test_input', attributes=[InputDataAttributeModel(id='test_attribute', data='test', unit=None, data_type=<AttributeTypes.VALUE: 'value'>, data_available=True, latest_timestamp_input=datetime.datetime(2025, 3, 7, 12, 9, 58, 223416, tzinfo=datetime.timezone.utc))])] output_entities=[OutputDataEntityModel(id='test_output', attributes=[], attributes_status=[OutputDataAttributeModel(id='test_attribute', latest_timestamp_output=datetime.datetime(2025, 3, 7, 12, 9, 58, 223898, tzinfo=datetime.timezone.utc))], commands=[])] static_entities=[]\n"
     ]
    }
   ],
   "source": [
    "from encodapy.utils.models import InputDataModel, InputDataEntityModel, OutputDataEntityModel, InputDataAttributeModel, OutputDataAttributeModel\n",
    "from datetime import datetime, timezone\n",
    "\n",
    "\n",
    "input_attribute = InputDataAttributeModel(\n",
    "    id='test_attribute',\n",
    "    data_type='value',\n",
    "    data='test',\n",
    "    data_available=True,\n",
    "    latest_timestamp_input=datetime.now(timezone.utc),\n",
    ")\n",
    "\n",
    "input_entity = InputDataEntityModel(\n",
    "    id='test_input',\n",
    "    attributes=[input_attribute],\n",
    ")\n",
    "print(input_entity)\n",
    "\n",
    "output_attribute = OutputDataAttributeModel(\n",
    "    id='test_attribute',\n",
    "    latest_timestamp_output=datetime.now(timezone.utc),\n",
    ")\n",
    "\n",
    "output_entity = OutputDataEntityModel(\n",
    "    id='test_output',\n",
    "    attributes_status=[output_attribute],\n",
    ")\n",
    "print(output_entity)\n",
    "\n",
    "data = InputDataModel(\n",
    "    input_entities=[input_entity, input_entity],\n",
    "    output_entities=[output_entity],\n",
    "    static_entities=[]\n",
    ")\n",
    "print(data)"
   ]
  },
  {
   "cell_type": "code",
   "execution_count": 4,
   "metadata": {},
   "outputs": [
    {
     "name": "stdout",
     "output_type": "stream",
     "text": [
      "[[InputDataAttributeModel(id='test_attribute', data='test', unit=None, data_type=<AttributeTypes.VALUE: 'value'>, data_available=True, latest_timestamp_input=datetime.datetime(2025, 3, 7, 12, 9, 58, 223416, tzinfo=datetime.timezone.utc))], [InputDataAttributeModel(id='test_attribute', data='test', unit=None, data_type=<AttributeTypes.VALUE: 'value'>, data_available=True, latest_timestamp_input=datetime.datetime(2025, 3, 7, 12, 9, 58, 223416, tzinfo=datetime.timezone.utc))]]\n",
      "[True, True]\n"
     ]
    }
   ],
   "source": [
    "\n",
    "data_available = [input_entity_1.attributes for input_entity_1 in data.input_entities]\n",
    "print(data_available)\n",
    "\n",
    "data_available = [attribute.data_available for input_entity in data.input_entities for attribute in input_entity.attributes]\n",
    "print(data_available)"
   ]
  }
 ],
 "metadata": {
  "kernelspec": {
   "display_name": "tweflex-services-oZcLNRLO-py3.11",
   "language": "python",
   "name": "python3"
  },
  "language_info": {
   "codemirror_mode": {
    "name": "ipython",
    "version": 3
   },
   "file_extension": ".py",
   "mimetype": "text/x-python",
   "name": "python",
   "nbconvert_exporter": "python",
   "pygments_lexer": "ipython3",
   "version": "3.11.9"
  }
 },
 "nbformat": 4,
 "nbformat_minor": 2
}

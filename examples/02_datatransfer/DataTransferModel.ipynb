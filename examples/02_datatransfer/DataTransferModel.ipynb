{
 "cells": [
  {
   "cell_type": "markdown",
   "metadata": {},
   "source": [
    "# Example to show the structur of the `DataTransferModel`\n",
    "- Just a simple example with two data points with values in the form of a single float value and a data frame.\n",
    "- More data points could be added to the list.\n",
    "- Model should be used as result of the `calculation()`"
   ]
  },
  {
   "cell_type": "code",
   "execution_count": 1,
   "metadata": {},
   "outputs": [],
   "source": [
    "# Import all the necessary modules\n",
    "from datetime import datetime, timezone\n",
    "import pandas as pd\n",
    "from encodapy.utils.models import(\n",
    "    DataTransferModel,\n",
    "    DataTransferComponentModel\n",
    ")\n",
    "from encodapy.utils.units import DataUnits"
   ]
  },
  {
   "cell_type": "markdown",
   "metadata": {},
   "source": [
    "## DataTransferComponentModel"
   ]
  },
  {
   "cell_type": "code",
   "execution_count": 2,
   "metadata": {},
   "outputs": [
    {
     "name": "stdout",
     "output_type": "stream",
     "text": [
      "Single value DataTransferComponentModel object:\n"
     ]
    },
    {
     "data": {
      "text/plain": [
       "DataTransferComponentModel(entity_id='example_entity_id_1', attribute_id='example_attribute_id_1', value=10.2, unit=<DataUnits.DEGREECELSIUS: 'CEL'>, timestamp=datetime.datetime(2025, 3, 6, 13, 5, 38, 710262, tzinfo=datetime.timezone.utc))"
      ]
     },
     "metadata": {},
     "output_type": "display_data"
    },
    {
     "name": "stdout",
     "output_type": "stream",
     "text": [
      "Timeseries DataTransferComponentModel object:\n"
     ]
    },
    {
     "data": {
      "text/plain": [
       "DataTransferComponentModel(entity_id='example_entity_id_1', attribute_id='example_attribute_id_2', value=                                  value\n",
       "2025-03-06 13:05:38.714679+00:00     10\n",
       "2025-03-06 13:06:38.714679+00:00     11\n",
       "2025-03-06 13:07:38.714679+00:00     12\n",
       "2025-03-06 13:08:38.714679+00:00     13\n",
       "2025-03-06 13:09:38.714679+00:00     14\n",
       "2025-03-06 13:10:38.714679+00:00     15\n",
       "2025-03-06 13:11:38.714679+00:00     16\n",
       "2025-03-06 13:12:38.714679+00:00     17\n",
       "2025-03-06 13:13:38.714679+00:00     18\n",
       "2025-03-06 13:14:38.714679+00:00     19, unit=<DataUnits.DEGREECELSIUS: 'CEL'>, timestamp=Timestamp('2025-03-06 13:14:38.714679+0000', tz='UTC'))"
      ]
     },
     "metadata": {},
     "output_type": "display_data"
    }
   ],
   "source": [
    "# Create a DataTransferComponentModel object with a single value \n",
    "\n",
    "example_datapoint_single_value = DataTransferComponentModel(\n",
    "    entity_id='example_entity_id_1',\n",
    "    attribute_id='example_attribute_id_1',\n",
    "    value=10.2,\n",
    "    unit=DataUnits.DEGREECELSIUS,\n",
    "    timestamp=datetime.now(timezone.utc),\n",
    ")\n",
    "\n",
    "print(\"Single value DataTransferComponentModel object:\")\n",
    "display(example_datapoint_single_value)\n",
    "\n",
    "# Create a DataTransferComponentModel object with a timeseries value \n",
    "timeindes = datetime.now(timezone.utc)+pd.to_timedelta(pd.Series(range(10)), unit='min')\n",
    "timeseries = pd.DataFrame(index=timeindes, data=range(10,20), columns=['value'])\n",
    "\n",
    "example_datapoint_timeseries = DataTransferComponentModel(\n",
    "    entity_id=\"example_entity_id_1\",\n",
    "    attribute_id=\"example_attribute_id_2\",\n",
    "    value=timeseries,\n",
    "    unit=DataUnits.DEGREECELSIUS,\n",
    "    timestamp=timeseries.index[-1])\n",
    "\n",
    "print(\"Timeseries DataTransferComponentModel object:\")\n",
    "display(example_datapoint_timeseries)"
   ]
  },
  {
   "cell_type": "markdown",
   "metadata": {},
   "source": [
    "## DataTransferModel"
   ]
  },
  {
   "cell_type": "code",
   "execution_count": 3,
   "metadata": {},
   "outputs": [
    {
     "name": "stdout",
     "output_type": "stream",
     "text": [
      "DataTransferModel object:\n"
     ]
    },
    {
     "data": {
      "text/plain": [
       "DataTransferModel(components=[DataTransferComponentModel(entity_id='example_entity_id_1', attribute_id='example_attribute_id_1', value=10.2, unit=<DataUnits.DEGREECELSIUS: 'CEL'>, timestamp=datetime.datetime(2025, 3, 6, 13, 5, 38, 710262, tzinfo=datetime.timezone.utc)), DataTransferComponentModel(entity_id='example_entity_id_1', attribute_id='example_attribute_id_2', value=                                  value\n",
       "2025-03-06 13:05:38.714679+00:00     10\n",
       "2025-03-06 13:06:38.714679+00:00     11\n",
       "2025-03-06 13:07:38.714679+00:00     12\n",
       "2025-03-06 13:08:38.714679+00:00     13\n",
       "2025-03-06 13:09:38.714679+00:00     14\n",
       "2025-03-06 13:10:38.714679+00:00     15\n",
       "2025-03-06 13:11:38.714679+00:00     16\n",
       "2025-03-06 13:12:38.714679+00:00     17\n",
       "2025-03-06 13:13:38.714679+00:00     18\n",
       "2025-03-06 13:14:38.714679+00:00     19, unit=<DataUnits.DEGREECELSIUS: 'CEL'>, timestamp=Timestamp('2025-03-06 13:14:38.714679+0000', tz='UTC'))])"
      ]
     },
     "metadata": {},
     "output_type": "display_data"
    }
   ],
   "source": [
    "data_transfer = DataTransferModel(\n",
    "    components=[example_datapoint_single_value, example_datapoint_timeseries]\n",
    ")\n",
    "\n",
    "print(\"DataTransferModel object:\")\n",
    "display(data_transfer)"
   ]
  }
 ],
 "metadata": {
  "kernelspec": {
   "display_name": "tweflex-services-oZcLNRLO-py3.11",
   "language": "python",
   "name": "python3"
  },
  "language_info": {
   "codemirror_mode": {
    "name": "ipython",
    "version": 3
   },
   "file_extension": ".py",
   "mimetype": "text/x-python",
   "name": "python",
   "nbconvert_exporter": "python",
   "pygments_lexer": "ipython3",
   "version": "3.11.9"
  }
 },
 "nbformat": 4,
 "nbformat_minor": 2
}

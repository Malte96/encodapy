{
 "cells": [
  {
   "cell_type": "markdown",
   "metadata": {},
   "source": [
    "# Example to show the structur of the `InputDataModel`\n",
    "- Single entities and attributes only\n",
    "- More data points could be added to the lists"
   ]
  },
  {
   "cell_type": "code",
   "execution_count": 1,
   "metadata": {},
   "outputs": [],
   "source": [
    "# Import all the necessary modules\n",
    "from datetime import datetime, timezone\n",
    "import pandas as pd\n",
    "from encodapy.config.types import AttributeTypes\n",
    "from encodapy.utils.models import(\n",
    "    InputDataModel,\n",
    "    InputDataEntityModel,\n",
    "    InputDataAttributeModel,\n",
    "    StaticDataEntityModel,\n",
    "    OutputDataEntityModel,\n",
    "    OutputDataAttributeModel\n",
    ")\n",
    "from encodapy.utils.units import DataUnits"
   ]
  },
  {
   "cell_type": "markdown",
   "metadata": {},
   "source": [
    "## InputDataAttributeModel"
   ]
  },
  {
   "cell_type": "code",
   "execution_count": 2,
   "metadata": {},
   "outputs": [
    {
     "name": "stdout",
     "output_type": "stream",
     "text": [
      "Single Value Input Data Attribute\n"
     ]
    },
    {
     "data": {
      "text/plain": [
       "InputDataAttributeModel(id='attribute_1', data=2.5, unit=<DataUnits.WTT: 'WTT'>, data_type=<AttributeTypes.VALUE: 'value'>, data_available=True, latest_timestamp_input=datetime.datetime(2025, 3, 23, 21, 8, 14, 720955, tzinfo=datetime.timezone.utc))"
      ]
     },
     "metadata": {},
     "output_type": "display_data"
    },
    {
     "name": "stdout",
     "output_type": "stream",
     "text": [
      "Timeseries Input Data Attribute\n"
     ]
    },
    {
     "data": {
      "text/plain": [
       "InputDataAttributeModel(id='attribute_1', data=                                  value\n",
       "2025-03-23 21:08:14.725160+00:00      0\n",
       "2025-03-23 21:09:14.725160+00:00      1\n",
       "2025-03-23 21:10:14.725160+00:00      2\n",
       "2025-03-23 21:11:14.725160+00:00      3\n",
       "2025-03-23 21:12:14.725160+00:00      4\n",
       "2025-03-23 21:13:14.725160+00:00      5\n",
       "2025-03-23 21:14:14.725160+00:00      6\n",
       "2025-03-23 21:15:14.725160+00:00      7\n",
       "2025-03-23 21:16:14.725160+00:00      8\n",
       "2025-03-23 21:17:14.725160+00:00      9, unit=<DataUnits.WTT: 'WTT'>, data_type=<AttributeTypes.TIMESERIES: 'timeseries'>, data_available=True, latest_timestamp_input=Timestamp('2025-03-23 21:17:14.725160+0000', tz='UTC'))"
      ]
     },
     "metadata": {},
     "output_type": "display_data"
    }
   ],
   "source": [
    "# Create a single value input data attribute\n",
    "input_attribute_single_value = InputDataAttributeModel(\n",
    "    id=\"attribute_1\",\n",
    "    data=2.5,\n",
    "    unit=DataUnits.WTT,\n",
    "    data_type=AttributeTypes.VALUE,\n",
    "    data_available=True,\n",
    "    latest_timestamp_input=datetime.now(timezone.utc))\n",
    "\n",
    "print(\"Single Value Input Data Attribute\")\n",
    "display(input_attribute_single_value)\n",
    "\n",
    "# Create a timeseries input data attribute\n",
    "timeindes = datetime.now(timezone.utc)+pd.to_timedelta(pd.Series(range(10)), unit='min')\n",
    "timeseries = pd.DataFrame(index=timeindes, data=range(10), columns=['value'])\n",
    "\n",
    "input_attribute_time_series = InputDataAttributeModel(\n",
    "    id=\"attribute_1\",\n",
    "    data=timeseries,\n",
    "    unit=DataUnits.WTT,\n",
    "    data_type=AttributeTypes.TIMESERIES,\n",
    "    data_available=True,\n",
    "    latest_timestamp_input=timeseries.index[-1])\n",
    "\n",
    "print(\"Timeseries Input Data Attribute\")\n",
    "display(input_attribute_time_series)"
   ]
  },
  {
   "cell_type": "markdown",
   "metadata": {},
   "source": [
    "## InputDataEntityModel"
   ]
  },
  {
   "cell_type": "code",
   "execution_count": 3,
   "metadata": {},
   "outputs": [
    {
     "data": {
      "text/plain": [
       "InputDataEntityModel(id='entity_1', attributes=[InputDataAttributeModel(id='attribute_1', data=2.5, unit=<DataUnits.WTT: 'WTT'>, data_type=<AttributeTypes.VALUE: 'value'>, data_available=True, latest_timestamp_input=datetime.datetime(2025, 3, 23, 21, 8, 14, 720955, tzinfo=datetime.timezone.utc)), InputDataAttributeModel(id='attribute_1', data=                                  value\n",
       "2025-03-23 21:08:14.725160+00:00      0\n",
       "2025-03-23 21:09:14.725160+00:00      1\n",
       "2025-03-23 21:10:14.725160+00:00      2\n",
       "2025-03-23 21:11:14.725160+00:00      3\n",
       "2025-03-23 21:12:14.725160+00:00      4\n",
       "2025-03-23 21:13:14.725160+00:00      5\n",
       "2025-03-23 21:14:14.725160+00:00      6\n",
       "2025-03-23 21:15:14.725160+00:00      7\n",
       "2025-03-23 21:16:14.725160+00:00      8\n",
       "2025-03-23 21:17:14.725160+00:00      9, unit=<DataUnits.WTT: 'WTT'>, data_type=<AttributeTypes.TIMESERIES: 'timeseries'>, data_available=True, latest_timestamp_input=Timestamp('2025-03-23 21:17:14.725160+0000', tz='UTC'))])"
      ]
     },
     "metadata": {},
     "output_type": "display_data"
    }
   ],
   "source": [
    "# Create the input data entity\n",
    "input_entity = InputDataEntityModel(\n",
    "    id=\"entity_1\",\n",
    "    attributes=[input_attribute_single_value, input_attribute_time_series])\n",
    "\n",
    "display(input_entity)"
   ]
  },
  {
   "cell_type": "markdown",
   "metadata": {},
   "source": [
    "## StaticDataEntityModel"
   ]
  },
  {
   "cell_type": "code",
   "execution_count": 4,
   "metadata": {},
   "outputs": [
    {
     "data": {
      "text/plain": [
       "StaticDataEntityModel(id='entity_2', attributes=[InputDataAttributeModel(id='attribute_1', data=2.5, unit=<DataUnits.WTT: 'WTT'>, data_type=<AttributeTypes.VALUE: 'value'>, data_available=True, latest_timestamp_input=datetime.datetime(2025, 3, 23, 21, 8, 14, 720955, tzinfo=datetime.timezone.utc))])"
      ]
     },
     "metadata": {},
     "output_type": "display_data"
    }
   ],
   "source": [
    "# Create a static data entity\n",
    "static_entity = StaticDataEntityModel(\n",
    "    id=\"entity_2\",\n",
    "    attributes=[input_attribute_single_value]) # uses the same structure as InputDataEntityModel\n",
    "\n",
    "display(static_entity)"
   ]
  },
  {
   "cell_type": "markdown",
   "metadata": {},
   "source": [
    "## OutputDataAttributeModel"
   ]
  },
  {
   "cell_type": "code",
   "execution_count": 5,
   "metadata": {},
   "outputs": [
    {
     "data": {
      "text/plain": [
       "OutputDataAttributeModel(id='attribute_1', latest_timestamp_output=datetime.datetime(2025, 3, 23, 21, 8, 14, 772269, tzinfo=datetime.timezone.utc))"
      ]
     },
     "metadata": {},
     "output_type": "display_data"
    }
   ],
   "source": [
    "# Create the output data attribute\n",
    "output_attribute_status = OutputDataAttributeModel(\n",
    "    id=\"attribute_1\",\n",
    "    latest_timestamp_output=datetime.now(timezone.utc))\n",
    "display(output_attribute_status)"
   ]
  },
  {
   "cell_type": "markdown",
   "metadata": {},
   "source": [
    "## OutputDataEntityModel"
   ]
  },
  {
   "cell_type": "code",
   "execution_count": 6,
   "metadata": {},
   "outputs": [
    {
     "data": {
      "text/plain": [
       "OutputDataEntityModel(id='entity_3', attributes=[], attributes_status=[OutputDataAttributeModel(id='attribute_1', latest_timestamp_output=datetime.datetime(2025, 3, 23, 21, 8, 14, 772269, tzinfo=datetime.timezone.utc))], commands=[])"
      ]
     },
     "metadata": {},
     "output_type": "display_data"
    }
   ],
   "source": [
    "# Create a output data entity\n",
    "output_entity = OutputDataEntityModel(\n",
    "    id=\"entity_3\",\n",
    "    attributes_status=[output_attribute_status])\n",
    "\n",
    "display(output_entity)"
   ]
  },
  {
   "cell_type": "markdown",
   "metadata": {},
   "source": [
    "## InputDataModel"
   ]
  },
  {
   "cell_type": "code",
   "execution_count": 7,
   "metadata": {},
   "outputs": [
    {
     "name": "stdout",
     "output_type": "stream",
     "text": [
      "Input Data Model\n"
     ]
    },
    {
     "data": {
      "text/plain": [
       "InputDataModel(input_entities=[InputDataEntityModel(id='entity_1', attributes=[InputDataAttributeModel(id='attribute_1', data=2.5, unit=<DataUnits.WTT: 'WTT'>, data_type=<AttributeTypes.VALUE: 'value'>, data_available=True, latest_timestamp_input=datetime.datetime(2025, 3, 23, 21, 8, 14, 720955, tzinfo=datetime.timezone.utc)), InputDataAttributeModel(id='attribute_1', data=                                  value\n",
       "2025-03-23 21:08:14.725160+00:00      0\n",
       "2025-03-23 21:09:14.725160+00:00      1\n",
       "2025-03-23 21:10:14.725160+00:00      2\n",
       "2025-03-23 21:11:14.725160+00:00      3\n",
       "2025-03-23 21:12:14.725160+00:00      4\n",
       "2025-03-23 21:13:14.725160+00:00      5\n",
       "2025-03-23 21:14:14.725160+00:00      6\n",
       "2025-03-23 21:15:14.725160+00:00      7\n",
       "2025-03-23 21:16:14.725160+00:00      8\n",
       "2025-03-23 21:17:14.725160+00:00      9, unit=<DataUnits.WTT: 'WTT'>, data_type=<AttributeTypes.TIMESERIES: 'timeseries'>, data_available=True, latest_timestamp_input=Timestamp('2025-03-23 21:17:14.725160+0000', tz='UTC'))])], output_entities=[OutputDataEntityModel(id='entity_3', attributes=[], attributes_status=[OutputDataAttributeModel(id='attribute_1', latest_timestamp_output=datetime.datetime(2025, 3, 23, 21, 8, 14, 772269, tzinfo=datetime.timezone.utc))], commands=[])], static_entities=[StaticDataEntityModel(id='entity_2', attributes=[InputDataAttributeModel(id='attribute_1', data=2.5, unit=<DataUnits.WTT: 'WTT'>, data_type=<AttributeTypes.VALUE: 'value'>, data_available=True, latest_timestamp_input=datetime.datetime(2025, 3, 23, 21, 8, 14, 720955, tzinfo=datetime.timezone.utc))])])"
      ]
     },
     "metadata": {},
     "output_type": "display_data"
    }
   ],
   "source": [
    "# Create the Input Date Model\n",
    "\n",
    "input_data = InputDataModel(\n",
    "    input_entities=[input_entity],\n",
    "    static_entities=[static_entity],\n",
    "    output_entities=[output_entity],)\n",
    "\n",
    "print(\"Input Data Model\")\n",
    "display(input_data)"
   ]
  }
 ],
 "metadata": {
  "kernelspec": {
   "display_name": ".venv",
   "language": "python",
   "name": "python3"
  },
  "language_info": {
   "codemirror_mode": {
    "name": "ipython",
    "version": 3
   },
   "file_extension": ".py",
   "mimetype": "text/x-python",
   "name": "python",
   "nbconvert_exporter": "python",
   "pygments_lexer": "ipython3",
   "version": "3.11.0"
  }
 },
 "nbformat": 4,
 "nbformat_minor": 2
}

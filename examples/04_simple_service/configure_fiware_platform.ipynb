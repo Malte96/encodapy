{
 "cells": [
  {
   "cell_type": "code",
   "execution_count": 1,
   "metadata": {},
   "outputs": [],
   "source": [
    "\"\"\"\n",
    "Description: This module contains the configuration for the data points of the example service\n",
    "Author: Martin Altenburger\n",
    "\"\"\"\n",
    "import os\n",
    "from loguru import logger\n",
    "from filip.models.base import FiwareHeader\n",
    "from filip.clients.ngsi_v2 import IoTAClient, ContextBrokerClient\n",
    "from filip.models.ngsi_v2.iot import ServiceGroup\n",
    "from filip.models.ngsi_v2.subscriptions import Subscription\n",
    "from filip.models.ngsi_v2.context import ContextEntity, NamedContextAttribute, NamedCommand\n",
    "from filip.models.ngsi_v2.base import NamedMetadata\n",
    "from filip.models.base import DataType\n",
    "from dotenv import load_dotenv"
   ]
  },
  {
   "cell_type": "markdown",
   "metadata": {},
   "source": [
    "The following environment variables are required. Please provide them in the [.env](.env) file:\n",
    "```\n",
    "FIWARE_IOTA= [\"http://localhost:4041\"]      # URL of the IoT Agent\n",
    "FIWARE_CB= [\"http://localhost:1026\"]        # URL of the Context Broker\n",
    "FIWARE_SERVICE= [\"example_service\"]         # Name of the FIWARE Service\n",
    "FIWARE_SERVICE_PATH= [\"/\"]                  # FIWARE Service Path, usually \"/\"\n",
    "```\n",
    "\n",
    "You must have access to the required Fiware platform."
   ]
  },
  {
   "cell_type": "code",
   "execution_count": 2,
   "metadata": {},
   "outputs": [
    {
     "data": {
      "text/plain": [
       "True"
      ]
     },
     "execution_count": 2,
     "metadata": {},
     "output_type": "execute_result"
    }
   ],
   "source": [
    "load_dotenv()"
   ]
  },
  {
   "cell_type": "code",
   "execution_count": 3,
   "metadata": {},
   "outputs": [
    {
     "name": "stderr",
     "output_type": "stream",
     "text": [
      "2025-03-26 12:33:29.141 | INFO     | __main__:prepare_service:145 - Start creating service and subscription\n"
     ]
    }
   ],
   "source": [
    "\n",
    "\n",
    "\n",
    "fiware_header = FiwareHeader(service=os.getenv(\"FIWARE_SERVICE\"),\n",
    "                             service_path=os.getenv(\"FIWARE_SERVICE_PATH\"))\n",
    "\n",
    "iota_client = IoTAClient(url=os.getenv(\"FIWARE_IOTA\"),\n",
    "                         fiware_header=fiware_header)\n",
    "cb_client = ContextBrokerClient(url=os.getenv(\"FIWARE_CB\"),\n",
    "                                fiware_header=fiware_header)\n",
    "\n",
    "\n",
    "def create_service():\n",
    "    \"\"\"\n",
    "    Function to create a service group for the example service\n",
    "    \"\"\"\n",
    "    groups = iota_client.get_group_list()\n",
    "    for group in groups:\n",
    "        if (group.service == os.getenv(\"FIWARE_SERVICE\")\n",
    "            and group.subservice == os.getenv(\"FIWARE_SERVICE_PATH\")):\n",
    "            logger.info(\"Service group already exists\")\n",
    "            return False\n",
    "\n",
    "    service_group = ServiceGroup(service=os.getenv(\"FIWARE_SERVICE\"),\n",
    "                                 subservice=os.getenv(\"FIWARE_SERVICE_PATH\"),\n",
    "                                 apikey=os.getenv(\"FIWARE_SERVICE\"),\n",
    "                                 entity_type=\"example_service\",\n",
    "                                 resource=\"/iot/json\",\n",
    "                                 explicitAttrs=True,\n",
    "                                 autoprovision=False)\n",
    "\n",
    "    iota_client.post_group(service_group=service_group,\n",
    "                           update=True)\n",
    "    \n",
    "    return True\n",
    "\n",
    "def create_subscription():\n",
    "    \"\"\"\n",
    "    Function to create a subscription for the example service -- if needed\n",
    "    \n",
    "    The subscription is used to notify at all changes of all components\n",
    "    \"\"\"\n",
    "    subscription = Subscription(\n",
    "        description=\"Notification of all changes\",\n",
    "        subject={\n",
    "            \"entities\": [\n",
    "                    {\n",
    "                        \"idPattern\": \".*\",\n",
    "                        \"type\": \"example_service\"\n",
    "                    }\n",
    "                ],\n",
    "                \"condition\": {\n",
    "                    \"attrs\": []\n",
    "                }\n",
    "        },\n",
    "        notification={\n",
    "            \"http\": {\n",
    "                \"url\": os.getenv(\"FIWARE_QL\") + \"/v2/notify\"\n",
    "            },\n",
    "            \"attrs\": [],\n",
    "            \"metadata\": [\"TimeInstant\"],\n",
    "            \"onlyChangedAttrs\": False\n",
    "        }\n",
    "    )\n",
    "\n",
    "    cb_client.post_subscription(subscription=subscription)\n",
    "    \n",
    "def create_entities():\n",
    "    \"\"\"\n",
    "    Function to create the required entities for the example service\n",
    "    \"\"\"\n",
    "    entities = [\n",
    "        {\n",
    "            \"id\": \"urn:thermal_storage:01\",\n",
    "            \"type\": \"thermal_storage\",\n",
    "            \"attributes\": [\n",
    "                {\n",
    "                    \"id\": \"temperature__measured\",\n",
    "                    \"type\": \"Number\",\n",
    "                    \"value\": 49,\n",
    "                    \"metadata\": {\n",
    "                        \"unitCode\":\"CEL\"\n",
    "                        }\n",
    "                },\n",
    "                {\n",
    "                    \"id\": \"temperature__setpoint\",\n",
    "                    \"type\": \"Number\",\n",
    "                    \"value\": 60,\n",
    "                    \"metadata\": {\n",
    "                        \"unitCode\":\"CEL\"\n",
    "                        }\n",
    "                }\n",
    "            ],\n",
    "            \"cmds\": []\n",
    "        },\n",
    "        {\n",
    "            \"id\": \"urn:heater:01\",\n",
    "            \"type\": \"heater\",\n",
    "            \"attributes\": [{\n",
    "                    \"id\": \"power__rated\",\n",
    "                    \"type\": \"Number\",\n",
    "                    \"value\": 15,\n",
    "                    \"metadata\": {\n",
    "                        \"unitCode\":\"KWT\"\n",
    "                        }\n",
    "                }],\n",
    "            \"cmds\": [\n",
    "                {\n",
    "                    \"id\": \"operation__setpoint\",\n",
    "                    \"value\": 0\n",
    "                }\n",
    "            ]\n",
    "        }\n",
    "    ]\n",
    "    \n",
    "    for entity_raw in entities:\n",
    "        entity = ContextEntity(id=entity_raw[\"id\"],\n",
    "                               type=entity_raw[\"type\"])\n",
    "        \n",
    "        attrs = []\n",
    "        if \"attributes\" in entity_raw and len(entity_raw[\"attributes\"])>0: \n",
    "            for attribute in entity_raw[\"attributes\"]:\n",
    "                \n",
    "                metadata = []\n",
    "                for key, value in attribute[\"metadata\"].items():\n",
    "                    metadata.append(NamedMetadata(name=key, value=value, type=\"Text\"))\n",
    "                \n",
    "                attrs.append(NamedContextAttribute(name=attribute[\"id\"],\n",
    "                                                type=attribute[\"type\"],\n",
    "                                                value=attribute[\"value\"],\n",
    "                                                metadata=metadata))\n",
    "        if \"cmds\" in entity_raw and len(entity_raw[\"cmds\"])>0:    \n",
    "            for cmd in entity_raw[\"cmds\"]:\n",
    "                attrs.append(NamedCommand(name=cmd[\"id\"],\n",
    "                                          type=DataType.COMMAND,\n",
    "                                          value=cmd[\"value\"]))\n",
    "        \n",
    "        entity.add_attributes(attrs)\n",
    "        \n",
    "        cb_client.post_entity(entity=entity,\n",
    "                              update=True)\n",
    "\n",
    "\n",
    "def prepare_service():\n",
    "    \"\"\"\n",
    "    Function to prepare the service, entitys and subscriptions\n",
    "    \"\"\"\n",
    "    logger.info(\"Start creating service and subscription\")\n",
    "    new_service = create_service()\n",
    "    if new_service is False:\n",
    "        logger.info(\"Service is already available\")\n",
    "        \n",
    "    create_entities()\n",
    "\n",
    "\n",
    "prepare_service()"
   ]
  },
  {
   "cell_type": "code",
   "execution_count": 4,
   "metadata": {},
   "outputs": [
    {
     "data": {
      "text/plain": [
       "ContextEntity(id='urn:heater:01', type='heater', operation__setpoint=ContextAttribute(type='command', value=0, metadata={}), power__rated=ContextAttribute(type='Number', value=15.0, metadata={'unitCode': Metadata(type='Text', value='KWT')}))"
      ]
     },
     "execution_count": 4,
     "metadata": {},
     "output_type": "execute_result"
    }
   ],
   "source": [
    "cb_client.get_entity(entity_id=\"urn:heater:01\")"
   ]
  }
 ],
 "metadata": {
  "kernelspec": {
   "display_name": "tweflex-services-oZcLNRLO-py3.11",
   "language": "python",
   "name": "python3"
  },
  "language_info": {
   "codemirror_mode": {
    "name": "ipython",
    "version": 3
   },
   "file_extension": ".py",
   "mimetype": "text/x-python",
   "name": "python",
   "nbconvert_exporter": "python",
   "pygments_lexer": "ipython3",
   "version": "3.11.9"
  }
 },
 "nbformat": 4,
 "nbformat_minor": 2
}

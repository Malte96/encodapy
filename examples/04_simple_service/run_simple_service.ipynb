{
 "cells": [
  {
   "cell_type": "code",
   "execution_count": 1,
   "metadata": {},
   "outputs": [],
   "source": [
    "from dotenv import load_dotenv\n",
    "from main import main"
   ]
  },
  {
   "cell_type": "code",
   "execution_count": 2,
   "metadata": {},
   "outputs": [
    {
     "name": "stdout",
     "output_type": "stream",
     "text": [
      "Loaded env: True\n"
     ]
    }
   ],
   "source": [
    "loaded_env = load_dotenv(\".env\")\n",
    "print(f\"Loaded env: {loaded_env}\")"
   ]
  },
  {
   "cell_type": "code",
   "execution_count": null,
   "metadata": {},
   "outputs": [
    {
     "name": "stdout",
     "output_type": "stream",
     "text": [
      "2025-03-05 16:41:14.118 | INFO     | encodapy.service.basic_service:prepare_start:118 - Prepare Start of Service\n",
      "2025-03-05 16:41:14.121 | DEBUG    | encodapy.config.models:check_timestep_units:226 - No timestep is set - using default value '1'\n",
      "2025-03-05 16:41:14.122 | DEBUG    | encodapy.config.models:check_timestep_units:228 - No timestep unit is set - using default unit 'second'\n",
      "2025-03-05 16:41:14.124 | DEBUG    | encodapy.config.models:check_timestep_units:230 - No sampling time is set - using default value '1'\n",
      "2025-03-05 16:41:14.125 | DEBUG    | encodapy.config.models:check_timestep_units:232 - No sampling time unit is set - using default unit 'minute'\n",
      "2025-03-05 16:41:14.125 | DEBUG    | encodapy.config.models:check_timestep_units:236 - No timerange type is set - using default type 'absolute'\n",
      "2025-03-05 16:41:14.128 | DEBUG    | encodapy.service.basic_service:_load_config:87 - ENVs succesfully loaded.\n",
      "2025-03-05 16:41:14.130 | DEBUG    | encodapy.service.basic_service:start_calibration:580 - Start Calibration\n",
      "2025-03-05 16:41:14.146 | DEBUG    | encodapy.service.basic_service:check_health_status:593 - Start the the Health-Check\n",
      "2025-03-05 16:41:14.149 | INFO     | encodapy.service.basic_service:start_service:526 - Start the Service\n",
      "2025-03-05 16:41:14.150 | DEBUG    | encodapy.service.basic_service:start_service:529 - Start the Prozess\n",
      "2025-03-05 16:41:14.520 | DEBUG    | example_service:calibration:128 - Calibration of the model is not necessary for this service\n",
      "2025-03-05 16:41:14.690 | DEBUG    | encodapy.service.basic_service:send_outputs:406 - Finished sending output data\n"
     ]
    }
   ],
   "source": [
    "await main()"
   ]
  }
 ],
 "metadata": {
  "kernelspec": {
   "display_name": "tweflex-services-oZcLNRLO-py3.11",
   "language": "python",
   "name": "python3"
  },
  "language_info": {
   "codemirror_mode": {
    "name": "ipython",
    "version": 3
   },
   "file_extension": ".py",
   "mimetype": "text/x-python",
   "name": "python",
   "nbconvert_exporter": "python",
   "pygments_lexer": "ipython3",
   "version": "3.11.9"
  }
 },
 "nbformat": 4,
 "nbformat_minor": 2
}

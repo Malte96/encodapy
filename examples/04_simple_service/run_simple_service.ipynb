{
 "cells": [
  {
   "cell_type": "code",
   "execution_count": 1,
   "metadata": {},
   "outputs": [],
   "source": [
    "from dotenv import load_dotenv\n",
    "from main import main"
   ]
  },
  {
   "cell_type": "code",
   "execution_count": 2,
   "metadata": {},
   "outputs": [
    {
     "name": "stdout",
     "output_type": "stream",
     "text": [
      "Loaded env: True\n"
     ]
    }
   ],
   "source": [
    "loaded_env = load_dotenv(\".env\")\n",
    "print(f\"Loaded env: {loaded_env}\")"
   ]
  },
  {
   "cell_type": "code",
   "execution_count": null,
   "metadata": {},
   "outputs": [
    {
     "name": "stdout",
     "output_type": "stream",
     "text": [
      "2025-03-26 12:35:45.827 | INFO     | encodapy.service.basic_service:prepare_start:115 - Prepare Start of Service\n",
      "2025-03-26 12:35:45.830 | DEBUG    | encodapy.config.models:check_timestep_units:223 - No timestep is set - using default value '1'\n",
      "2025-03-26 12:35:45.831 | DEBUG    | encodapy.config.models:check_timestep_units:225 - No timestep unit is set - using default unit 'second'\n",
      "2025-03-26 12:35:45.833 | DEBUG    | encodapy.config.models:check_timestep_units:227 - No sampling time is set - using default value '1'\n",
      "2025-03-26 12:35:45.834 | DEBUG    | encodapy.config.models:check_timestep_units:229 - No sampling time unit is set - using default unit 'minute'\n",
      "2025-03-26 12:35:45.837 | DEBUG    | encodapy.config.models:check_timestep_units:233 - No timerange type is set - using default type 'absolute'\n",
      "2025-03-26 12:35:45.839 | DEBUG    | encodapy.service.basic_service:_load_config:88 - ENVs succesfully loaded.\n",
      "2025-03-26 12:35:45.842 | DEBUG    | encodapy.service.basic_service:start_calibration:579 - Start Calibration\n",
      "2025-03-26 12:35:45.862 | DEBUG    | encodapy.service.basic_service:check_health_status:592 - Start the the Health-Check\n",
      "2025-03-26 12:35:45.866 | INFO     | encodapy.service.basic_service:start_service:525 - Start the Service\n",
      "2025-03-26 12:35:45.868 | DEBUG    | encodapy.service.basic_service:start_service:528 - Start the Prozess\n",
      "2025-03-26 12:35:46.212 | DEBUG    | example_service:calibration:130 - Calibration of the model is not necessary for this service\n",
      "2025-03-26 12:35:46.362 | DEBUG    | encodapy.service.basic_service:send_outputs:405 - Finished sending output data\n"
     ]
    }
   ],
   "source": [
    "await main()"
   ]
  }
 ],
 "metadata": {
  "kernelspec": {
   "display_name": "tweflex-services-oZcLNRLO-py3.11",
   "language": "python",
   "name": "python3"
  },
  "language_info": {
   "codemirror_mode": {
    "name": "ipython",
    "version": 3
   },
   "file_extension": ".py",
   "mimetype": "text/x-python",
   "name": "python",
   "nbconvert_exporter": "python",
   "pygments_lexer": "ipython3",
   "version": "3.11.9"
  }
 },
 "nbformat": 4,
 "nbformat_minor": 2
}

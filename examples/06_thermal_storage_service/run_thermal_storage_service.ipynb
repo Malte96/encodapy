{
 "cells": [
  {
   "cell_type": "code",
   "execution_count": 1,
   "metadata": {},
   "outputs": [],
   "source": [
    "from dotenv import load_dotenv\n",
    "from main import main"
   ]
  },
  {
   "cell_type": "code",
   "execution_count": null,
   "metadata": {},
   "outputs": [
    {
     "name": "stdout",
     "output_type": "stream",
     "text": [
      "Loaded env: True\n"
     ]
    }
   ],
   "source": [
    "loaded_env = load_dotenv(\"local.env\")\n",
    "print(f\"Loaded env: {loaded_env}\")"
   ]
  },
  {
   "cell_type": "code",
   "execution_count": 3,
   "metadata": {},
   "outputs": [
    {
     "name": "stdout",
     "output_type": "stream",
     "text": [
      "\u001b[32m2025-08-05 11:23:18.221\u001b[0m | \u001b[1mINFO    \u001b[0m | \u001b[36mencodapy.service.basic_service\u001b[0m:\u001b[36mprepare_basic_start\u001b[0m:\u001b[36m93\u001b[0m - \u001b[1mPrepare the basic start of the service\u001b[0m\n",
      "[ControllerComponentModel(active=True, id='thermal_storage', type='thermal_storage', inputs={'temperature_1': {'entity': 'thermal_storage', 'attribute': 'temperature_1'}, 'temperature_2': {'entity': 'thermal_storage', 'attribute': 'temperature_2'}, 'temperature_3': {'entity': 'thermal_storage', 'attribute': 'temperature_3'}, 'temperature_4': {'entity': 'thermal_storage', 'attribute': 'temperature_4'}, 'temperature_5': {'entity': 'thermal_storage', 'attribute': 'temperature_5'}}, outputs={'storage__level': {'entity': 'thermal_storage', 'attribute': 'storage__level'}, 'storage__energy': {'entity': 'thermal_storage', 'attribute': 'storage__energy'}}, config={'sensor_config': {'sensor_1_name': 'temperature_1', 'sensor_1_height': 10, 'sensor_1_limits': {'minimal_temperature': 65, 'maximal_temperature': 85}, 'sensor_2_name': 'temperature_2', 'sensor_2_height': 30, 'sensor_2_limits': {'minimal_temperature': 65, 'maximal_temperature': 85}, 'sensor_3_name': 'temperature_3', 'sensor_3_height': 50, 'sensor_3_limits': {'minimal_temperature': 65, 'maximal_temperature': 85}, 'sensor_4_name': 'temperature_4', 'sensor_4_height': 70, 'sensor_4_limits': {'minimal_temperature': 65, 'maximal_temperature': 85}, 'sensor_5_name': 'temperature_5', 'sensor_5_height': 90, 'sensor_5_limits': {'minimal_temperature': 65, 'maximal_temperature': 85}}})]\n",
      "[StaticDataModel(id='thermal_storage', interface=<Interfaces.FILE: 'file'>, id_interface='stroage_id', attributes=[AttributeModel(id='volume', id_interface='thermal_storage', type=<AttributeTypes.VALUE: 'value'>, value=1500.0, unit=<DataUnits.LITER: 'LIT'>, datatype=<DataType.NUMBER: 'Number'>, timestamp=None), AttributeModel(id='medium', id_interface='thermal_storage', type=<AttributeTypes.VALUE: 'value'>, value='water', unit=None, datatype=<DataType.NUMBER: 'Number'>, timestamp=None)])]\n",
      "active=True id='thermal_storage' type='thermal_storage' inputs={'temperature_1': {'entity': 'thermal_storage', 'attribute': 'temperature_1'}, 'temperature_2': {'entity': 'thermal_storage', 'attribute': 'temperature_2'}, 'temperature_3': {'entity': 'thermal_storage', 'attribute': 'temperature_3'}, 'temperature_4': {'entity': 'thermal_storage', 'attribute': 'temperature_4'}, 'temperature_5': {'entity': 'thermal_storage', 'attribute': 'temperature_5'}} outputs={'storage__level': {'entity': 'thermal_storage', 'attribute': 'storage__level'}, 'storage__energy': {'entity': 'thermal_storage', 'attribute': 'storage__energy'}} config={'sensor_config': {'sensor_1_name': 'temperature_1', 'sensor_1_height': 10, 'sensor_1_limits': {'minimal_temperature': 65, 'maximal_temperature': 85}, 'sensor_2_name': 'temperature_2', 'sensor_2_height': 30, 'sensor_2_limits': {'minimal_temperature': 65, 'maximal_temperature': 85}, 'sensor_3_name': 'temperature_3', 'sensor_3_height': 50, 'sensor_3_limits': {'minimal_temperature': 65, 'maximal_temperature': 85}, 'sensor_4_name': 'temperature_4', 'sensor_4_height': 70, 'sensor_4_limits': {'minimal_temperature': 65, 'maximal_temperature': 85}, 'sensor_5_name': 'temperature_5', 'sensor_5_height': 90, 'sensor_5_limits': {'minimal_temperature': 65, 'maximal_temperature': 85}}}\n"
     ]
    },
    {
     "ename": "AttributeError",
     "evalue": "'ControllerComponentModel' object has no attribute 'update'",
     "output_type": "error",
     "traceback": [
      "\u001b[1;31m---------------------------------------------------------------------------\u001b[0m",
      "\u001b[1;31mAttributeError\u001b[0m                            Traceback (most recent call last)",
      "Cell \u001b[1;32mIn[3], line 1\u001b[0m\n\u001b[1;32m----> 1\u001b[0m \u001b[38;5;28;01mawait\u001b[39;00m main()\n",
      "File \u001b[1;32md:\\Arbeit\\Projekte\\PJ_N5GEH-E3\\e3_services\\e3_plattform_controller\\encodapy\\examples\\06_thermal_storage_service\\main.py:19\u001b[0m, in \u001b[0;36mmain\u001b[1;34m()\u001b[0m\n\u001b[0;32m     10\u001b[0m \u001b[38;5;28;01masync\u001b[39;00m \u001b[38;5;28;01mdef\u001b[39;00m\u001b[38;5;250m \u001b[39m\u001b[38;5;21mmain\u001b[39m():\n\u001b[0;32m     11\u001b[0m \u001b[38;5;250m    \u001b[39m\u001b[38;5;124;03m\"\"\"\u001b[39;00m\n\u001b[0;32m     12\u001b[0m \u001b[38;5;124;03m    Main function to start the example service\u001b[39;00m\n\u001b[0;32m     13\u001b[0m \n\u001b[1;32m   (...)\u001b[0m\n\u001b[0;32m     16\u001b[0m \u001b[38;5;124;03m        - start the service\u001b[39;00m\n\u001b[0;32m     17\u001b[0m \u001b[38;5;124;03m    \"\"\"\u001b[39;00m\n\u001b[1;32m---> 19\u001b[0m     service \u001b[38;5;241m=\u001b[39m \u001b[43mThermalStorageService\u001b[49m\u001b[43m(\u001b[49m\u001b[43m)\u001b[49m\n\u001b[0;32m     21\u001b[0m     task_for_calibration \u001b[38;5;241m=\u001b[39m asyncio\u001b[38;5;241m.\u001b[39mcreate_task(service\u001b[38;5;241m.\u001b[39mstart_calibration())\n\u001b[0;32m     22\u001b[0m     task_for_check_health \u001b[38;5;241m=\u001b[39m asyncio\u001b[38;5;241m.\u001b[39mcreate_task(service\u001b[38;5;241m.\u001b[39mcheck_health_status())\n",
      "File \u001b[1;32md:\\Arbeit\\Projekte\\PJ_N5GEH-E3\\e3_services\\e3_plattform_controller\\encodapy\\examples\\06_thermal_storage_service\\thermal_storage_service.py:28\u001b[0m, in \u001b[0;36mThermalStorageService.__init__\u001b[1;34m(self)\u001b[0m\n\u001b[0;32m     24\u001b[0m \u001b[38;5;250m\u001b[39m\u001b[38;5;124;03m\"\"\"\u001b[39;00m\n\u001b[0;32m     25\u001b[0m \u001b[38;5;124;03mConstructor for the ThermalStorageService\u001b[39;00m\n\u001b[0;32m     26\u001b[0m \u001b[38;5;124;03m\"\"\"\u001b[39;00m\n\u001b[0;32m     27\u001b[0m \u001b[38;5;28mself\u001b[39m\u001b[38;5;241m.\u001b[39mthermal_storage:ThermalStorage \u001b[38;5;241m=\u001b[39m \u001b[38;5;28;01mNone\u001b[39;00m\n\u001b[1;32m---> 28\u001b[0m \u001b[38;5;28;43msuper\u001b[39;49m\u001b[43m(\u001b[49m\u001b[43m)\u001b[49m\u001b[38;5;241;43m.\u001b[39;49m\u001b[38;5;21;43m__init__\u001b[39;49m\u001b[43m(\u001b[49m\u001b[43m)\u001b[49m\n",
      "File \u001b[1;32mD:\\Arbeit\\Projekte\\PJ_N5GEH-E3\\e3_services\\e3_plattform_controller\\encodapy\\encodapy\\service\\basic_service.py:58\u001b[0m, in \u001b[0;36mControllerBasicService.__init__\u001b[1;34m(self)\u001b[0m\n\u001b[0;32m     54\u001b[0m \u001b[38;5;28mself\u001b[39m\u001b[38;5;241m.\u001b[39mstaticdata \u001b[38;5;241m=\u001b[39m \u001b[38;5;28;01mNone\u001b[39;00m\n\u001b[0;32m     56\u001b[0m \u001b[38;5;28mself\u001b[39m\u001b[38;5;241m.\u001b[39mtimestamp_health \u001b[38;5;241m=\u001b[39m \u001b[38;5;28;01mNone\u001b[39;00m\n\u001b[1;32m---> 58\u001b[0m \u001b[38;5;28;43mself\u001b[39;49m\u001b[38;5;241;43m.\u001b[39;49m\u001b[43mprepare_basic_start\u001b[49m\u001b[43m(\u001b[49m\u001b[43m)\u001b[49m\n",
      "File \u001b[1;32mD:\\Arbeit\\Projekte\\PJ_N5GEH-E3\\e3_services\\e3_plattform_controller\\encodapy\\encodapy\\service\\basic_service.py:105\u001b[0m, in \u001b[0;36mControllerBasicService.prepare_basic_start\u001b[1;34m(self)\u001b[0m\n\u001b[0;32m    102\u001b[0m     \u001b[38;5;28;01mif\u001b[39;00m \u001b[38;5;28mgetattr\u001b[39m(interfaces, \u001b[38;5;124m\"\u001b[39m\u001b[38;5;124mmqtt\u001b[39m\u001b[38;5;124m\"\u001b[39m, \u001b[38;5;28;01mFalse\u001b[39;00m):\n\u001b[0;32m    103\u001b[0m         \u001b[38;5;28mself\u001b[39m\u001b[38;5;241m.\u001b[39mprepare_mqtt_connection()\n\u001b[1;32m--> 105\u001b[0m \u001b[38;5;28;43mself\u001b[39;49m\u001b[38;5;241;43m.\u001b[39;49m\u001b[43mprepare_start\u001b[49m\u001b[43m(\u001b[49m\u001b[43m)\u001b[49m\n",
      "File \u001b[1;32md:\\Arbeit\\Projekte\\PJ_N5GEH-E3\\e3_services\\e3_plattform_controller\\encodapy\\examples\\06_thermal_storage_service\\thermal_storage_service.py:37\u001b[0m, in \u001b[0;36mThermalStorageService.prepare_start\u001b[1;34m(self)\u001b[0m\n\u001b[0;32m     35\u001b[0m \u001b[38;5;28mprint\u001b[39m(\u001b[38;5;28mself\u001b[39m\u001b[38;5;241m.\u001b[39mconfig\u001b[38;5;241m.\u001b[39mcontroller_components)\n\u001b[0;32m     36\u001b[0m \u001b[38;5;28mprint\u001b[39m(\u001b[38;5;28mself\u001b[39m\u001b[38;5;241m.\u001b[39mconfig\u001b[38;5;241m.\u001b[39mstaticdata)\n\u001b[1;32m---> 37\u001b[0m \u001b[38;5;28mself\u001b[39m\u001b[38;5;241m.\u001b[39mthermal_storage \u001b[38;5;241m=\u001b[39m \u001b[43mThermalStorage\u001b[49m\u001b[43m(\u001b[49m\n\u001b[0;32m     38\u001b[0m \u001b[43m    \u001b[49m\u001b[43mconfig\u001b[49m\u001b[38;5;241;43m=\u001b[39;49m\u001b[38;5;28;43mself\u001b[39;49m\u001b[38;5;241;43m.\u001b[39;49m\u001b[43mconfig\u001b[49m\u001b[43m,\u001b[49m\n\u001b[0;32m     39\u001b[0m \u001b[43m    \u001b[49m\u001b[43mcomponent_id\u001b[49m\u001b[38;5;241;43m=\u001b[39;49m\u001b[38;5;124;43m\"\u001b[39;49m\u001b[38;5;124;43mthermal_storage\u001b[39;49m\u001b[38;5;124;43m\"\u001b[39;49m\n\u001b[0;32m     40\u001b[0m \u001b[43m    \u001b[49m\u001b[43m)\u001b[49m\n",
      "File \u001b[1;32mD:\\Arbeit\\Projekte\\PJ_N5GEH-E3\\e3_services\\e3_plattform_controller\\encodapy\\encodapy\\components\\thermal_storage\\thermal_storage.py:39\u001b[0m, in \u001b[0;36mThermalStorage.__init__\u001b[1;34m(self, config, component_id)\u001b[0m\n\u001b[0;32m     34\u001b[0m \u001b[38;5;28;01mdef\u001b[39;00m\u001b[38;5;250m \u001b[39m\u001b[38;5;21m__init__\u001b[39m(\u001b[38;5;28mself\u001b[39m,\n\u001b[0;32m     35\u001b[0m              config: Union[StaticDataModel, \u001b[38;5;28mlist\u001b[39m[StaticDataModel]],\n\u001b[0;32m     36\u001b[0m              component_id: \u001b[38;5;28mstr\u001b[39m\n\u001b[0;32m     37\u001b[0m              ) \u001b[38;5;241m-\u001b[39m\u001b[38;5;241m>\u001b[39m \u001b[38;5;28;01mNone\u001b[39;00m:\n\u001b[1;32m---> 39\u001b[0m     \u001b[38;5;28;43msuper\u001b[39;49m\u001b[43m(\u001b[49m\u001b[43m)\u001b[49m\u001b[38;5;241;43m.\u001b[39;49m\u001b[38;5;21;43m__init__\u001b[39;49m\u001b[43m(\u001b[49m\u001b[43mconfig\u001b[49m\u001b[38;5;241;43m=\u001b[39;49m\u001b[43mconfig\u001b[49m\u001b[43m,\u001b[49m\n\u001b[0;32m     40\u001b[0m \u001b[43m                     \u001b[49m\u001b[43mcomponent_id\u001b[49m\u001b[38;5;241;43m=\u001b[39;49m\u001b[43mcomponent_id\u001b[49m\u001b[43m)\u001b[49m\n\u001b[0;32m     42\u001b[0m     \u001b[38;5;66;03m# Basic initialization of the thermal storage\u001b[39;00m\n\u001b[0;32m     43\u001b[0m     \u001b[38;5;28mself\u001b[39m\u001b[38;5;241m.\u001b[39msensor_config: Optional[ThermalStorageTemperatureSensors] \u001b[38;5;241m=\u001b[39m \u001b[38;5;28;01mNone\u001b[39;00m\n",
      "File \u001b[1;32mD:\\Arbeit\\Projekte\\PJ_N5GEH-E3\\e3_services\\e3_plattform_controller\\encodapy\\encodapy\\components\\basic_component.py:42\u001b[0m, in \u001b[0;36mBasicComponent.__init__\u001b[1;34m(self, config, component_id)\u001b[0m\n\u001b[0;32m     35\u001b[0m static_config \u001b[38;5;241m=\u001b[39m StaticDataModel\u001b[38;5;241m.\u001b[39mmodel_validate(\n\u001b[0;32m     36\u001b[0m     \u001b[38;5;28mself\u001b[39m\u001b[38;5;241m.\u001b[39mget_component_config(\n\u001b[0;32m     37\u001b[0m         config \u001b[38;5;241m=\u001b[39m config\u001b[38;5;241m.\u001b[39mstaticdata,\n\u001b[0;32m     38\u001b[0m         component_id \u001b[38;5;241m=\u001b[39m component_id\n\u001b[0;32m     39\u001b[0m     )\n\u001b[0;32m     40\u001b[0m )\n\u001b[0;32m     41\u001b[0m \u001b[38;5;28mprint\u001b[39m(component_config_parameter)\n\u001b[1;32m---> 42\u001b[0m \u001b[38;5;28mself\u001b[39m\u001b[38;5;241m.\u001b[39mcomponent_config \u001b[38;5;241m=\u001b[39m \u001b[43mcomponent_config_parameter\u001b[49m\u001b[38;5;241;43m.\u001b[39;49m\u001b[43mupdate\u001b[49m(static_config)\n\u001b[0;32m     43\u001b[0m \u001b[38;5;28mprint\u001b[39m(\u001b[38;5;28mself\u001b[39m\u001b[38;5;241m.\u001b[39mcomponent_config)\n",
      "File \u001b[1;32mc:\\Users\\Seidel\\AppData\\Local\\pypoetry\\Cache\\virtualenvs\\e3-plattform-controller-SpdZ8RIZ-py3.9\\lib\\site-packages\\pydantic\\main.py:767\u001b[0m, in \u001b[0;36mBaseModel.__getattr__\u001b[1;34m(self, item)\u001b[0m\n\u001b[0;32m    764\u001b[0m     \u001b[38;5;28;01mreturn\u001b[39;00m \u001b[38;5;28msuper\u001b[39m()\u001b[38;5;241m.\u001b[39m\u001b[38;5;21m__getattribute__\u001b[39m(item)  \u001b[38;5;66;03m# Raises AttributeError if appropriate\u001b[39;00m\n\u001b[0;32m    765\u001b[0m \u001b[38;5;28;01melse\u001b[39;00m:\n\u001b[0;32m    766\u001b[0m     \u001b[38;5;66;03m# this is the current error\u001b[39;00m\n\u001b[1;32m--> 767\u001b[0m     \u001b[38;5;28;01mraise\u001b[39;00m \u001b[38;5;167;01mAttributeError\u001b[39;00m(\u001b[38;5;124mf\u001b[39m\u001b[38;5;124m'\u001b[39m\u001b[38;5;132;01m{\u001b[39;00m\u001b[38;5;28mtype\u001b[39m(\u001b[38;5;28mself\u001b[39m)\u001b[38;5;241m.\u001b[39m\u001b[38;5;18m__name__\u001b[39m\u001b[38;5;132;01m!r}\u001b[39;00m\u001b[38;5;124m object has no attribute \u001b[39m\u001b[38;5;132;01m{\u001b[39;00mitem\u001b[38;5;132;01m!r}\u001b[39;00m\u001b[38;5;124m'\u001b[39m)\n",
      "\u001b[1;31mAttributeError\u001b[0m: 'ControllerComponentModel' object has no attribute 'update'"
     ]
    }
   ],
   "source": [
    "await main()\n"
   ]
  }
 ],
 "metadata": {
  "kernelspec": {
   "display_name": "e3-plattform-controller-py3.9",
   "language": "python",
   "name": "python3"
  },
  "language_info": {
   "codemirror_mode": {
    "name": "ipython",
    "version": 3
   },
   "file_extension": ".py",
   "mimetype": "text/x-python",
   "name": "python",
   "nbconvert_exporter": "python",
   "pygments_lexer": "ipython3",
   "version": "3.9.0"
  }
 },
 "nbformat": 4,
 "nbformat_minor": 2
}

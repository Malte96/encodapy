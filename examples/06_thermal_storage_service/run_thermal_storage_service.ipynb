{
 "cells": [
  {
   "cell_type": "code",
   "execution_count": 1,
   "metadata": {},
   "outputs": [],
   "source": [
    "from dotenv import load_dotenv\n",
    "from main import main"
   ]
  },
  {
   "cell_type": "code",
   "execution_count": 2,
   "metadata": {},
   "outputs": [
    {
     "name": "stdout",
     "output_type": "stream",
     "text": [
      "Loaded env: True\n"
     ]
    }
   ],
   "source": [
    "load_dotenv()\n",
    "print(f\"Loaded env: {load_dotenv()}\")"
   ]
  },
  {
   "cell_type": "code",
   "execution_count": null,
   "metadata": {},
   "outputs": [
    {
     "name": "stdout",
     "output_type": "stream",
     "text": [
      "\u001b[32m2025-08-15 14:56:41.404\u001b[0m | \u001b[1mINFO    \u001b[0m | \u001b[36mencodapy.service.basic_service\u001b[0m:\u001b[36mprepare_basic_start\u001b[0m:\u001b[36m94\u001b[0m - \u001b[1mPrepare the basic start of the service\u001b[0m\n",
      "\u001b[32m2025-08-15 14:56:41.406\u001b[0m | \u001b[34m\u001b[1mDEBUG   \u001b[0m | \u001b[36mencodapy.config.models\u001b[0m:\u001b[36mcheck_timestep_units\u001b[0m:\u001b[36m216\u001b[0m - \u001b[34m\u001b[1mNo timestep is set - using default value '1'\u001b[0m\n",
      "\u001b[32m2025-08-15 14:56:41.406\u001b[0m | \u001b[34m\u001b[1mDEBUG   \u001b[0m | \u001b[36mencodapy.config.models\u001b[0m:\u001b[36mcheck_timestep_units\u001b[0m:\u001b[36m218\u001b[0m - \u001b[34m\u001b[1mNo timestep unit is set - using default unit 'second'\u001b[0m\n",
      "\u001b[32m2025-08-15 14:56:41.410\u001b[0m | \u001b[34m\u001b[1mDEBUG   \u001b[0m | \u001b[36mencodapy.config.models\u001b[0m:\u001b[36mcheck_timestep_units\u001b[0m:\u001b[36m226\u001b[0m - \u001b[34m\u001b[1mNo timerange type is set - using default type 'absolute'\u001b[0m\n",
      "\u001b[32m2025-08-15 14:56:41.410\u001b[0m | \u001b[34m\u001b[1mDEBUG   \u001b[0m | \u001b[36mencodapy.service.basic_service\u001b[0m:\u001b[36m_load_config\u001b[0m:\u001b[36m85\u001b[0m - \u001b[34m\u001b[1mENVs succesfully loaded.\u001b[0m\n",
      "\u001b[32m2025-08-15 14:56:41.548\u001b[0m | \u001b[34m\u001b[1mDEBUG   \u001b[0m | \u001b[36mencodapy.service.basic_service\u001b[0m:\u001b[36mstart_calibration\u001b[0m:\u001b[36m599\u001b[0m - \u001b[34m\u001b[1mStart Calibration\u001b[0m\n",
      "\u001b[32m2025-08-15 14:56:41.565\u001b[0m | \u001b[34m\u001b[1mDEBUG   \u001b[0m | \u001b[36mencodapy.service.basic_service\u001b[0m:\u001b[36mcheck_health_status\u001b[0m:\u001b[36m612\u001b[0m - \u001b[34m\u001b[1mStart the the Health-Check\u001b[0m\n",
      "\u001b[32m2025-08-15 14:56:41.571\u001b[0m | \u001b[1mINFO    \u001b[0m | \u001b[36mencodapy.service.basic_service\u001b[0m:\u001b[36mstart_service\u001b[0m:\u001b[36m550\u001b[0m - \u001b[1mStart the Service\u001b[0m\n",
      "\u001b[32m2025-08-15 14:56:41.571\u001b[0m | \u001b[34m\u001b[1mDEBUG   \u001b[0m | \u001b[36mencodapy.service.basic_service\u001b[0m:\u001b[36mstart_service\u001b[0m:\u001b[36m553\u001b[0m - \u001b[34m\u001b[1mStart the Prozess\u001b[0m\n",
      "\u001b[32m2025-08-15 14:56:41.670\u001b[0m | \u001b[34m\u001b[1mDEBUG   \u001b[0m | \u001b[36mthermal_storage_service\u001b[0m:\u001b[36mcalculation\u001b[0m:\u001b[36m59\u001b[0m - \u001b[34m\u001b[1mEnergy Storage Level: 71.88 %\u001b[0m\n",
      "\u001b[32m2025-08-15 14:56:41.674\u001b[0m | \u001b[34m\u001b[1mDEBUG   \u001b[0m | \u001b[36mthermal_storage_service\u001b[0m:\u001b[36mcalculation\u001b[0m:\u001b[36m60\u001b[0m - \u001b[34m\u001b[1mEnergy of the Storage: 15115.69 Wh\u001b[0m\n",
      "\u001b[32m2025-08-15 14:56:41.714\u001b[0m | \u001b[34m\u001b[1mDEBUG   \u001b[0m | \u001b[36mencodapy.service.communication.fiware_connection\u001b[0m:\u001b[36m_send_data_to_fiware\u001b[0m:\u001b[36m869\u001b[0m - \u001b[34m\u001b[1mNo information about the unit of the attribute storage__level from entity thermal_storage available!\u001b[0m\n",
      "\u001b[32m2025-08-15 14:56:41.718\u001b[0m | \u001b[34m\u001b[1mDEBUG   \u001b[0m | \u001b[36mencodapy.service.communication.fiware_connection\u001b[0m:\u001b[36m_send_data_to_fiware\u001b[0m:\u001b[36m869\u001b[0m - \u001b[34m\u001b[1mNo information about the unit of the attribute storage__energy from entity thermal_storage available!\u001b[0m\n",
      "\u001b[32m2025-08-15 14:56:41.730\u001b[0m | \u001b[34m\u001b[1mDEBUG   \u001b[0m | \u001b[36mencodapy.service.basic_service\u001b[0m:\u001b[36msend_outputs\u001b[0m:\u001b[36m402\u001b[0m - \u001b[34m\u001b[1mFinished sending output data\u001b[0m\n"
     ]
    }
   ],
   "source": [
    "await main()\n"
   ]
  }
 ],
 "metadata": {
  "kernelspec": {
   "display_name": "encodapy-yCtKR3Ss-py3.11",
   "language": "python",
   "name": "python3"
  },
  "language_info": {
   "codemirror_mode": {
    "name": "ipython",
    "version": 3
   },
   "file_extension": ".py",
   "mimetype": "text/x-python",
   "name": "python",
   "nbconvert_exporter": "python",
   "pygments_lexer": "ipython3",
   "version": "3.11.9"
  }
 },
 "nbformat": 4,
 "nbformat_minor": 2
}

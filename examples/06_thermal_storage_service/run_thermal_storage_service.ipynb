{
 "cells": [
  {
   "cell_type": "code",
   "execution_count": 1,
   "metadata": {},
   "outputs": [],
   "source": [
    "from dotenv import load_dotenv\n",
    "from main import main"
   ]
  },
  {
   "cell_type": "code",
   "execution_count": 2,
   "metadata": {},
   "outputs": [
    {
     "name": "stdout",
     "output_type": "stream",
     "text": [
      "Loaded env: True\n"
     ]
    }
   ],
   "source": [
    "load_dotenv()\n",
    "print(f\"Loaded env: {load_dotenv()}\")"
   ]
  },
  {
   "cell_type": "code",
   "execution_count": null,
   "metadata": {},
   "outputs": [
    {
     "name": "stdout",
     "output_type": "stream",
     "text": [
      "\u001b[32m2025-08-14 14:20:55.435\u001b[0m | \u001b[1mINFO    \u001b[0m | \u001b[36mencodapy.service.basic_service\u001b[0m:\u001b[36mprepare_basic_start\u001b[0m:\u001b[36m93\u001b[0m - \u001b[1mPrepare the basic start of the service\u001b[0m\n",
      "\u001b[32m2025-08-14 14:20:55.442\u001b[0m | \u001b[34m\u001b[1mDEBUG   \u001b[0m | \u001b[36mencodapy.config.models\u001b[0m:\u001b[36mcheck_timestep_units\u001b[0m:\u001b[36m216\u001b[0m - \u001b[34m\u001b[1mNo timestep is set - using default value '1'\u001b[0m\n",
      "\u001b[32m2025-08-14 14:20:55.445\u001b[0m | \u001b[34m\u001b[1mDEBUG   \u001b[0m | \u001b[36mencodapy.config.models\u001b[0m:\u001b[36mcheck_timestep_units\u001b[0m:\u001b[36m218\u001b[0m - \u001b[34m\u001b[1mNo timestep unit is set - using default unit 'second'\u001b[0m\n",
      "\u001b[32m2025-08-14 14:20:55.448\u001b[0m | \u001b[34m\u001b[1mDEBUG   \u001b[0m | \u001b[36mencodapy.config.models\u001b[0m:\u001b[36mcheck_timestep_units\u001b[0m:\u001b[36m226\u001b[0m - \u001b[34m\u001b[1mNo timerange type is set - using default type 'absolute'\u001b[0m\n",
      "\u001b[32m2025-08-14 14:20:55.450\u001b[0m | \u001b[34m\u001b[1mDEBUG   \u001b[0m | \u001b[36mencodapy.service.basic_service\u001b[0m:\u001b[36m_load_config\u001b[0m:\u001b[36m84\u001b[0m - \u001b[34m\u001b[1mENVs succesfully loaded.\u001b[0m\n",
      "\u001b[32m2025-08-14 14:20:55.651\u001b[0m | \u001b[34m\u001b[1mDEBUG   \u001b[0m | \u001b[36mencodapy.service.basic_service\u001b[0m:\u001b[36mstart_calibration\u001b[0m:\u001b[36m608\u001b[0m - \u001b[34m\u001b[1mStart Calibration\u001b[0m\n",
      "\u001b[32m2025-08-14 14:20:55.683\u001b[0m | \u001b[34m\u001b[1mDEBUG   \u001b[0m | \u001b[36mencodapy.service.basic_service\u001b[0m:\u001b[36mcheck_health_status\u001b[0m:\u001b[36m621\u001b[0m - \u001b[34m\u001b[1mStart the the Health-Check\u001b[0m\n",
      "\u001b[32m2025-08-14 14:20:55.688\u001b[0m | \u001b[1mINFO    \u001b[0m | \u001b[36mencodapy.service.basic_service\u001b[0m:\u001b[36mstart_service\u001b[0m:\u001b[36m559\u001b[0m - \u001b[1mStart the Service\u001b[0m\n",
      "\u001b[32m2025-08-14 14:20:55.691\u001b[0m | \u001b[34m\u001b[1mDEBUG   \u001b[0m | \u001b[36mencodapy.service.basic_service\u001b[0m:\u001b[36mstart_service\u001b[0m:\u001b[36m562\u001b[0m - \u001b[34m\u001b[1mStart the Prozess\u001b[0m\n",
      "\u001b[32m2025-08-14 14:20:56.008\u001b[0m | \u001b[34m\u001b[1mDEBUG   \u001b[0m | \u001b[36mthermal_storage_service\u001b[0m:\u001b[36mcalibration\u001b[0m:\u001b[36m113\u001b[0m - \u001b[34m\u001b[1mReloading static data for thermal storage\u001b[0m\n",
      "\u001b[32m2025-08-14 14:20:56.171\u001b[0m | \u001b[34m\u001b[1mDEBUG   \u001b[0m | \u001b[36mthermal_storage_service\u001b[0m:\u001b[36mcalculation\u001b[0m:\u001b[36m74\u001b[0m - \u001b[34m\u001b[1mCalculation of the energy level in the storage (79.26 %).\u001b[0m\n",
      "\u001b[32m2025-08-14 14:20:56.176\u001b[0m | \u001b[34m\u001b[1mDEBUG   \u001b[0m | \u001b[36mthermal_storage_service\u001b[0m:\u001b[36mcalculation\u001b[0m:\u001b[36m75\u001b[0m - \u001b[34m\u001b[1mCalculation of the energy in the storage (14602.57 kWh).\u001b[0m\n",
      "\u001b[32m2025-08-14 14:20:56.239\u001b[0m | \u001b[34m\u001b[1mDEBUG   \u001b[0m | \u001b[36mencodapy.service.communication.fiware_connection\u001b[0m:\u001b[36m_send_data_to_fiware\u001b[0m:\u001b[36m869\u001b[0m - \u001b[34m\u001b[1mNo information about the unit of the attribute storage__level from entity thermal_storage available!\u001b[0m\n",
      "\u001b[32m2025-08-14 14:20:56.244\u001b[0m | \u001b[34m\u001b[1mDEBUG   \u001b[0m | \u001b[36mencodapy.service.communication.fiware_connection\u001b[0m:\u001b[36m_send_data_to_fiware\u001b[0m:\u001b[36m869\u001b[0m - \u001b[34m\u001b[1mNo information about the unit of the attribute storage__energy from entity thermal_storage available!\u001b[0m\n",
      "\u001b[32m2025-08-14 14:20:56.268\u001b[0m | \u001b[34m\u001b[1mDEBUG   \u001b[0m | \u001b[36mencodapy.service.basic_service\u001b[0m:\u001b[36msend_outputs\u001b[0m:\u001b[36m411\u001b[0m - \u001b[34m\u001b[1mFinished sending output data\u001b[0m\n"
     ]
    }
   ],
   "source": [
    "await main()\n"
   ]
  }
 ],
 "metadata": {
  "kernelspec": {
   "display_name": "e3-plattform-controller-py3.9",
   "language": "python",
   "name": "python3"
  },
  "language_info": {
   "codemirror_mode": {
    "name": "ipython",
    "version": 3
   },
   "file_extension": ".py",
   "mimetype": "text/x-python",
   "name": "python",
   "nbconvert_exporter": "python",
   "pygments_lexer": "ipython3",
   "version": "3.9.0"
  }
 },
 "nbformat": 4,
 "nbformat_minor": 2
}

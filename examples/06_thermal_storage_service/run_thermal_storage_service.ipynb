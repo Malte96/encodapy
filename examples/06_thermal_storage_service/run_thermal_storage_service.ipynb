{
 "cells": [
  {
   "cell_type": "code",
   "execution_count": 1,
   "metadata": {},
   "outputs": [],
   "source": [
    "from dotenv import load_dotenv\n",
    "from main import main"
   ]
  },
  {
   "cell_type": "code",
   "execution_count": 2,
   "metadata": {},
   "outputs": [
    {
     "name": "stdout",
     "output_type": "stream",
     "text": [
      "Loaded env: True\n"
     ]
    }
   ],
   "source": [
    "loaded_env = load_dotenv(\".env\")\n",
    "print(f\"Loaded env: {loaded_env}\")"
   ]
  },
  {
   "cell_type": "code",
   "execution_count": null,
   "metadata": {},
   "outputs": [
    {
     "name": "stdout",
     "output_type": "stream",
     "text": [
      "\u001b[32m2025-08-01 11:42:04.489\u001b[0m | \u001b[1mINFO    \u001b[0m | \u001b[36mencodapy.service.basic_service\u001b[0m:\u001b[36mprepare_basic_start\u001b[0m:\u001b[36m93\u001b[0m - \u001b[1mPrepare the basic start of the service\u001b[0m\n",
      "\u001b[32m2025-08-01 11:42:04.493\u001b[0m | \u001b[34m\u001b[1mDEBUG   \u001b[0m | \u001b[36mencodapy.config.models\u001b[0m:\u001b[36mcheck_timestep_units\u001b[0m:\u001b[36m240\u001b[0m - \u001b[34m\u001b[1mNo timestep is set - using default value '1'\u001b[0m\n",
      "\u001b[32m2025-08-01 11:42:04.494\u001b[0m | \u001b[34m\u001b[1mDEBUG   \u001b[0m | \u001b[36mencodapy.config.models\u001b[0m:\u001b[36mcheck_timestep_units\u001b[0m:\u001b[36m242\u001b[0m - \u001b[34m\u001b[1mNo timestep unit is set - using default unit 'second'\u001b[0m\n",
      "\u001b[32m2025-08-01 11:42:04.496\u001b[0m | \u001b[34m\u001b[1mDEBUG   \u001b[0m | \u001b[36mencodapy.config.models\u001b[0m:\u001b[36mcheck_timestep_units\u001b[0m:\u001b[36m244\u001b[0m - \u001b[34m\u001b[1mNo sampling time is set - using default value '1'\u001b[0m\n",
      "\u001b[32m2025-08-01 11:42:04.497\u001b[0m | \u001b[34m\u001b[1mDEBUG   \u001b[0m | \u001b[36mencodapy.config.models\u001b[0m:\u001b[36mcheck_timestep_units\u001b[0m:\u001b[36m246\u001b[0m - \u001b[34m\u001b[1mNo sampling time unit is set - using default unit 'minute'\u001b[0m\n",
      "\u001b[32m2025-08-01 11:42:04.498\u001b[0m | \u001b[34m\u001b[1mDEBUG   \u001b[0m | \u001b[36mencodapy.config.models\u001b[0m:\u001b[36mcheck_timestep_units\u001b[0m:\u001b[36m250\u001b[0m - \u001b[34m\u001b[1mNo timerange type is set - using default type 'absolute'\u001b[0m\n",
      "\u001b[32m2025-08-01 11:42:04.500\u001b[0m | \u001b[34m\u001b[1mDEBUG   \u001b[0m | \u001b[36mencodapy.service.basic_service\u001b[0m:\u001b[36m_load_config\u001b[0m:\u001b[36m84\u001b[0m - \u001b[34m\u001b[1mENVs succesfully loaded.\u001b[0m\n",
      "\u001b[32m2025-08-01 11:42:04.504\u001b[0m | \u001b[34m\u001b[1mDEBUG   \u001b[0m | \u001b[36mencodapy.service.basic_service\u001b[0m:\u001b[36mstart_calibration\u001b[0m:\u001b[36m603\u001b[0m - \u001b[34m\u001b[1mStart Calibration\u001b[0m\n",
      "\u001b[32m2025-08-01 11:42:04.546\u001b[0m | \u001b[34m\u001b[1mDEBUG   \u001b[0m | \u001b[36mencodapy.service.basic_service\u001b[0m:\u001b[36mcheck_health_status\u001b[0m:\u001b[36m616\u001b[0m - \u001b[34m\u001b[1mStart the the Health-Check\u001b[0m\n",
      "\u001b[32m2025-08-01 11:42:04.550\u001b[0m | \u001b[1mINFO    \u001b[0m | \u001b[36mencodapy.service.basic_service\u001b[0m:\u001b[36mstart_service\u001b[0m:\u001b[36m550\u001b[0m - \u001b[1mStart the Service\u001b[0m\n",
      "\u001b[32m2025-08-01 11:42:04.552\u001b[0m | \u001b[34m\u001b[1mDEBUG   \u001b[0m | \u001b[36mencodapy.service.basic_service\u001b[0m:\u001b[36mstart_service\u001b[0m:\u001b[36m553\u001b[0m - \u001b[34m\u001b[1mStart the Prozess\u001b[0m\n",
      "\u001b[32m2025-08-01 11:42:04.627\u001b[0m | \u001b[34m\u001b[1mDEBUG   \u001b[0m | \u001b[36mencodapy.service.basic_service\u001b[0m:\u001b[36mcalibration\u001b[0m:\u001b[36m446\u001b[0m - \u001b[34m\u001b[1mNo calibration function implemented, get the data only: {\"input_entities\":[{\"id\":\"thermal_storage\",\"attributes\":[{\"id\":\"temperature_1\",\"data\":80.0,\"unit\":\"CEL\",\"data_type\":\"value\",\"data_available\":true,\"latest_timestamp_input\":null},{\"id\":\"temperature_2\",\"data\":78.0,\"unit\":\"CEL\",\"data_type\":\"value\",\"data_available\":true,\"latest_timestamp_input\":null},{\"id\":\"temperature_3\",\"data\":72.0,\"unit\":\"CEL\",\"data_type\":\"value\",\"data_available\":true,\"latest_timestamp_input\":null},{\"id\":\"temperature_4\",\"data\":70.0,\"unit\":\"CEL\",\"data_type\":\"value\",\"data_available\":true,\"latest_timestamp_input\":null},{\"id\":\"temperature_5\",\"data\":68.0,\"unit\":\"CEL\",\"data_type\":\"value\",\"data_available\":true,\"latest_timestamp_input\":null}]}],\"output_entities\":[{\"id\":\"thermal_storage\",\"attributes\":[],\"attributes_status\":[{\"id\":\"storage__energy\",\"latest_timestamp_output\":\"2025-08-01T07:33:59Z\"},{\"id\":\"storage__level\",\"latest_timestamp_output\":\"2025-08-01T07:33:59Z\"}],\"commands\":[]}],\"static_entities\":[]}\u001b[0m\n",
      "\u001b[32m2025-08-01 11:42:04.668\u001b[0m | \u001b[34m\u001b[1mDEBUG   \u001b[0m | \u001b[36mencodapy.service.communication.fiware_connection\u001b[0m:\u001b[36m_send_data_to_fiware\u001b[0m:\u001b[36m931\u001b[0m - \u001b[34m\u001b[1mNo information about the unit of the attribute storage__level from entity thermal_storage available!\u001b[0m\n",
      "\u001b[32m2025-08-01 11:42:04.670\u001b[0m | \u001b[34m\u001b[1mDEBUG   \u001b[0m | \u001b[36mencodapy.service.communication.fiware_connection\u001b[0m:\u001b[36m_send_data_to_fiware\u001b[0m:\u001b[36m931\u001b[0m - \u001b[34m\u001b[1mNo information about the unit of the attribute storage__energy from entity thermal_storage available!\u001b[0m\n",
      "\u001b[32m2025-08-01 11:42:04.691\u001b[0m | \u001b[34m\u001b[1mDEBUG   \u001b[0m | \u001b[36mencodapy.service.basic_service\u001b[0m:\u001b[36msend_outputs\u001b[0m:\u001b[36m402\u001b[0m - \u001b[34m\u001b[1mFinished sending output data\u001b[0m\n"
     ]
    }
   ],
   "source": [
    "\n",
    "await main()\n"
   ]
  }
 ],
 "metadata": {
  "kernelspec": {
   "display_name": "encodapy-yCtKR3Ss-py3.11",
   "language": "python",
   "name": "python3"
  },
  "language_info": {
   "codemirror_mode": {
    "name": "ipython",
    "version": 3
   },
   "file_extension": ".py",
   "mimetype": "text/x-python",
   "name": "python",
   "nbconvert_exporter": "python",
   "pygments_lexer": "ipython3",
   "version": "3.11.9"
  }
 },
 "nbformat": 4,
 "nbformat_minor": 2
}

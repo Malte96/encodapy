{
 "cells": [
  {
   "cell_type": "code",
   "execution_count": null,
   "id": "554f1708",
   "metadata": {},
   "outputs": [],
   "source": [
    "from dotenv import load_dotenv\n",
    "from service_main.main import main"
   ]
  },
  {
   "cell_type": "code",
   "execution_count": null,
   "id": "a760b2d3",
   "metadata": {},
   "outputs": [],
   "source": [
    "load_dotenv()\n",
    "print(f\"Loaded env: {load_dotenv()}\")"
   ]
  },
  {
   "cell_type": "code",
   "execution_count": null,
   "id": "5ee00fb6",
   "metadata": {},
   "outputs": [],
   "source": [
    "await main()"
   ]
  }
 ],
 "metadata": {
  "kernelspec": {
   "display_name": ".venv",
   "language": "python",
   "name": "python3"
  },
  "language_info": {
   "codemirror_mode": {
    "name": "ipython",
    "version": 3
   },
   "file_extension": ".py",
   "mimetype": "text/x-python",
   "name": "python",
   "nbconvert_exporter": "python",
   "pygments_lexer": "ipython3",
   "version": "3.12.4"
  }
 },
 "nbformat": 4,
 "nbformat_minor": 5
}

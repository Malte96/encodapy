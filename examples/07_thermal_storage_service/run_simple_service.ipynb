{
 "cells": [
  {
   "cell_type": "code",
   "execution_count": 1,
   "metadata": {},
   "outputs": [
    {
     "name": "stderr",
     "output_type": "stream",
     "text": [
      "c:\\Users\\marti\\AppData\\Local\\pypoetry\\Cache\\virtualenvs\\encodapy-yCtKR3Ss-py3.11\\Lib\\site-packages\\filip\\clients\\ngsi_v2\\cb.py:11: UserWarning: pkg_resources is deprecated as an API. See https://setuptools.pypa.io/en/latest/pkg_resources.html. The pkg_resources package is slated for removal as early as 2025-11-30. Refrain from using this package or pin to Setuptools<81.\n",
      "  from pkg_resources import parse_version\n"
     ]
    }
   ],
   "source": [
    "from dotenv import load_dotenv\n",
    "from main import main"
   ]
  },
  {
   "cell_type": "code",
   "execution_count": 2,
   "metadata": {},
   "outputs": [
    {
     "name": "stdout",
     "output_type": "stream",
     "text": [
      "Loaded env: True\n"
     ]
    }
   ],
   "source": [
    "loaded_env = load_dotenv(\".env\")\n",
    "print(f\"Loaded env: {loaded_env}\")"
   ]
  },
  {
   "cell_type": "code",
   "execution_count": null,
   "metadata": {},
   "outputs": [
    {
     "name": "stdout",
     "output_type": "stream",
     "text": [
      "\u001b[32m2025-07-01 16:10:51.733\u001b[0m | \u001b[1mINFO    \u001b[0m | \u001b[36mencodapy.service.basic_service\u001b[0m:\u001b[36mprepare_basic_start\u001b[0m:\u001b[36m97\u001b[0m - \u001b[1mPrepare the basic start of the service\u001b[0m\n",
      "\u001b[32m2025-07-01 16:10:51.748\u001b[0m | \u001b[34m\u001b[1mDEBUG   \u001b[0m | \u001b[36mencodapy.config.models\u001b[0m:\u001b[36mcheck_timestep_units\u001b[0m:\u001b[36m235\u001b[0m - \u001b[34m\u001b[1mNo timestep is set - using default value '1'\u001b[0m\n",
      "\u001b[32m2025-07-01 16:10:51.750\u001b[0m | \u001b[34m\u001b[1mDEBUG   \u001b[0m | \u001b[36mencodapy.config.models\u001b[0m:\u001b[36mcheck_timestep_units\u001b[0m:\u001b[36m237\u001b[0m - \u001b[34m\u001b[1mNo timestep unit is set - using default unit 'second'\u001b[0m\n",
      "\u001b[32m2025-07-01 16:10:51.751\u001b[0m | \u001b[34m\u001b[1mDEBUG   \u001b[0m | \u001b[36mencodapy.config.models\u001b[0m:\u001b[36mcheck_timestep_units\u001b[0m:\u001b[36m239\u001b[0m - \u001b[34m\u001b[1mNo sampling time is set - using default value '1'\u001b[0m\n",
      "\u001b[32m2025-07-01 16:10:51.752\u001b[0m | \u001b[34m\u001b[1mDEBUG   \u001b[0m | \u001b[36mencodapy.config.models\u001b[0m:\u001b[36mcheck_timestep_units\u001b[0m:\u001b[36m241\u001b[0m - \u001b[34m\u001b[1mNo sampling time unit is set - using default unit 'minute'\u001b[0m\n",
      "\u001b[32m2025-07-01 16:10:51.753\u001b[0m | \u001b[34m\u001b[1mDEBUG   \u001b[0m | \u001b[36mencodapy.config.models\u001b[0m:\u001b[36mcheck_timestep_units\u001b[0m:\u001b[36m245\u001b[0m - \u001b[34m\u001b[1mNo timerange type is set - using default type 'absolute'\u001b[0m\n",
      "\u001b[32m2025-07-01 16:10:51.755\u001b[0m | \u001b[34m\u001b[1mDEBUG   \u001b[0m | \u001b[36mencodapy.service.basic_service\u001b[0m:\u001b[36m_load_config\u001b[0m:\u001b[36m88\u001b[0m - \u001b[34m\u001b[1mENVs succesfully loaded.\u001b[0m\n",
      "\u001b[32m2025-07-01 16:10:51.757\u001b[0m | \u001b[34m\u001b[1mDEBUG   \u001b[0m | \u001b[36mencodapy.service.basic_service\u001b[0m:\u001b[36mstart_calibration\u001b[0m:\u001b[36m605\u001b[0m - \u001b[34m\u001b[1mStart Calibration\u001b[0m\n",
      "\u001b[32m2025-07-01 16:10:51.781\u001b[0m | \u001b[34m\u001b[1mDEBUG   \u001b[0m | \u001b[36mencodapy.service.basic_service\u001b[0m:\u001b[36mcheck_health_status\u001b[0m:\u001b[36m618\u001b[0m - \u001b[34m\u001b[1mStart the the Health-Check\u001b[0m\n",
      "\u001b[32m2025-07-01 16:10:51.784\u001b[0m | \u001b[1mINFO    \u001b[0m | \u001b[36mencodapy.service.basic_service\u001b[0m:\u001b[36mstart_service\u001b[0m:\u001b[36m552\u001b[0m - \u001b[1mStart the Service\u001b[0m\n",
      "\u001b[32m2025-07-01 16:10:51.785\u001b[0m | \u001b[34m\u001b[1mDEBUG   \u001b[0m | \u001b[36mencodapy.service.basic_service\u001b[0m:\u001b[36mstart_service\u001b[0m:\u001b[36m555\u001b[0m - \u001b[34m\u001b[1mStart the Prozess\u001b[0m\n",
      "\u001b[32m2025-07-01 16:10:51.863\u001b[0m | \u001b[34m\u001b[1mDEBUG   \u001b[0m | \u001b[36mencodapy.service.basic_service\u001b[0m:\u001b[36mcalibration\u001b[0m:\u001b[36m448\u001b[0m - \u001b[34m\u001b[1mNo calibration function implemented, get the data only: {\"input_entities\":[{\"id\":\"thermal_storage\",\"attributes\":[{\"id\":\"temperature_1\",\"data\":80.0,\"unit\":\"CEL\",\"data_type\":\"value\",\"data_available\":true,\"latest_timestamp_input\":null},{\"id\":\"temperature_2\",\"data\":78.0,\"unit\":\"CEL\",\"data_type\":\"value\",\"data_available\":true,\"latest_timestamp_input\":null},{\"id\":\"temperature_3\",\"data\":72.0,\"unit\":\"CEL\",\"data_type\":\"value\",\"data_available\":true,\"latest_timestamp_input\":null},{\"id\":\"temperature_4\",\"data\":70.0,\"unit\":\"CEL\",\"data_type\":\"value\",\"data_available\":true,\"latest_timestamp_input\":null},{\"id\":\"temperature_5\",\"data\":68.0,\"unit\":\"CEL\",\"data_type\":\"value\",\"data_available\":true,\"latest_timestamp_input\":null}]}],\"output_entities\":[{\"id\":\"thermal_storage\",\"attributes\":[],\"attributes_status\":[],\"commands\":[]}],\"static_entities\":[]}\u001b[0m\n",
      "\u001b[32m2025-07-01 16:10:51.905\u001b[0m | \u001b[34m\u001b[1mDEBUG   \u001b[0m | \u001b[36mencodapy.service.communication.fiware_connection\u001b[0m:\u001b[36m_send_data_to_fiware\u001b[0m:\u001b[36m931\u001b[0m - \u001b[34m\u001b[1mNo information about the unit of the attribute storage__level from entity thermal_storage available!\u001b[0m\n",
      "\u001b[32m2025-07-01 16:10:51.908\u001b[0m | \u001b[34m\u001b[1mDEBUG   \u001b[0m | \u001b[36mencodapy.service.communication.fiware_connection\u001b[0m:\u001b[36m_send_data_to_fiware\u001b[0m:\u001b[36m931\u001b[0m - \u001b[34m\u001b[1mNo information about the unit of the attribute storage__energy from entity thermal_storage available!\u001b[0m\n",
      "\u001b[32m2025-07-01 16:10:51.941\u001b[0m | \u001b[34m\u001b[1mDEBUG   \u001b[0m | \u001b[36mencodapy.service.basic_service\u001b[0m:\u001b[36msend_outputs\u001b[0m:\u001b[36m404\u001b[0m - \u001b[34m\u001b[1mFinished sending output data\u001b[0m\n"
     ]
    }
   ],
   "source": [
    "\n",
    "await main()\n"
   ]
  }
 ],
 "metadata": {
  "kernelspec": {
   "display_name": "encodapy-yCtKR3Ss-py3.11",
   "language": "python",
   "name": "python3"
  },
  "language_info": {
   "codemirror_mode": {
    "name": "ipython",
    "version": 3
   },
   "file_extension": ".py",
   "mimetype": "text/x-python",
   "name": "python",
   "nbconvert_exporter": "python",
   "pygments_lexer": "ipython3",
   "version": "3.11.9"
  }
 },
 "nbformat": 4,
 "nbformat_minor": 2
}

{
 "cells": [
  {
   "cell_type": "code",
   "execution_count": 1,
   "metadata": {},
   "outputs": [],
   "source": [
    "from controller_software.config import ConfigModel"
   ]
  },
  {
   "cell_type": "code",
   "execution_count": 2,
   "metadata": {},
   "outputs": [
    {
     "name": "stdout",
     "output_type": "stream",
     "text": [
      "interfaces=InterfaceModel(mqtt=True, fiware=True, file={'path': 'example.json'}) inputs=[InputModel(id='test', interface=<Interfaces.MQTT: 'mqtt'>, id_interface='test', attributes=[AttributeModel(id='example_1', id_interface='test_1', type=<AttributeTypes.VALUE: 'value'>, value=None), AttributeModel(id='example_2', id_interface='test_2', type=<AttributeTypes.VALUE: 'value'>, value=None)])] outputs=[OutputModel(id='test', interface=<Interfaces.MQTT: 'mqtt'>, id_interface='test', attributes=[AttributeModel(id='example', id_interface='test', type=<AttributeTypes.VALUE: 'value'>, value=None)])] metadata=[] controller_components=[ControllerComponentModel(active=True, id='storage', type=<ControllerComponents.STORAGE: 'storage'>, inputs=[], outputs=[])] controller_settings={}\n",
      "{'path': 'example.json'}\n",
      "[InputModel(id='test', interface=<Interfaces.MQTT: 'mqtt'>, id_interface='test', attributes=[AttributeModel(id='example_1', id_interface='test_1', type=<AttributeTypes.VALUE: 'value'>, value=None), AttributeModel(id='example_2', id_interface='test_2', type=<AttributeTypes.VALUE: 'value'>, value=None)])]\n",
      "[AttributeModel(id='example_1', id_interface='test_1', type=<AttributeTypes.VALUE: 'value'>, value=None), AttributeModel(id='example_2', id_interface='test_2', type=<AttributeTypes.VALUE: 'value'>, value=None)]\n",
      "[ControllerComponentModel(active=True, id='storage', type=<ControllerComponents.STORAGE: 'storage'>, inputs=[], outputs=[])]\n",
      "active=True id='storage' type=<ControllerComponents.STORAGE: 'storage'> inputs=[] outputs=[]\n"
     ]
    }
   ],
   "source": [
    "config = ConfigModel.from_json('config.json')\n",
    "print(config)\n",
    "\n",
    "print(config.interfaces.file)\n",
    "\n",
    "print(config.inputs)\n",
    "\n",
    "print(config.inputs[0].attributes)\n",
    "\n",
    "print(config.controller_components)\n",
    "\n",
    "for controller in config.controller_components:\n",
    "    print(controller)"
   ]
  },
  {
   "cell_type": "code",
   "execution_count": 3,
   "metadata": {},
   "outputs": [
    {
     "name": "stdout",
     "output_type": "stream",
     "text": [
      "data='test' data_available=True latest_timestamp_input=datetime.datetime(2024, 8, 15, 11, 24, 49, 990944, tzinfo=datetime.timezone.utc)\n",
      "latest_timestamp_output=datetime.datetime(2024, 8, 15, 11, 24, 49, 991935, tzinfo=datetime.timezone.utc)\n",
      "input_entitys=[InputDataInputEntityModel(data='test', data_available=True, latest_timestamp_input=datetime.datetime(2024, 8, 15, 11, 24, 49, 990944, tzinfo=datetime.timezone.utc))] output_entitys=[OutputDataOutputEntityModel(latest_timestamp_output=datetime.datetime(2024, 8, 15, 11, 24, 49, 991935, tzinfo=datetime.timezone.utc))]\n"
     ]
    }
   ],
   "source": [
    "from controller_software.utils.models import InputDataModel, InputDataInputEntityModel, OutputDataOutputEntityModel\n",
    "from datetime import datetime, timezone\n",
    "\n",
    "input_data = InputDataInputEntityModel(\n",
    "    id='test_input',\n",
    "    data='test',\n",
    "    data_available=True,\n",
    "    latest_timestamp_input=datetime.now(timezone.utc),\n",
    ")\n",
    "print(input_data)\n",
    "\n",
    "output_data = OutputDataOutputEntityModel(\n",
    "    id='test_output',\n",
    "    latest_timestamp_output=datetime.now(timezone.utc),\n",
    ")\n",
    "print(output_data)\n",
    "\n",
    "data = InputDataModel(\n",
    "    input_entitys=[input_data],\n",
    "    output_entitys=[output_data],\n",
    ")\n",
    "print(data)"
   ]
  }
 ],
 "metadata": {
  "kernelspec": {
   "display_name": "tweflex-services-oZcLNRLO-py3.9",
   "language": "python",
   "name": "python3"
  },
  "language_info": {
   "codemirror_mode": {
    "name": "ipython",
    "version": 3
   },
   "file_extension": ".py",
   "mimetype": "text/x-python",
   "name": "python",
   "nbconvert_exporter": "python",
   "pygments_lexer": "ipython3",
   "version": "3.9.13"
  }
 },
 "nbformat": 4,
 "nbformat_minor": 2
}

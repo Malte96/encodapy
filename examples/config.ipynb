{
 "cells": [
  {
   "cell_type": "code",
   "execution_count": 1,
   "metadata": {},
   "outputs": [],
   "source": [
    "from controller_software.config import ConfigModel"
   ]
  },
  {
   "cell_type": "code",
   "execution_count": 2,
   "metadata": {},
   "outputs": [
    {
     "name": "stdout",
     "output_type": "stream",
     "text": [
      "interfaces=InterfaceModel(mqtt=False, fiware=True, file={}) inputs=[InputModel(id='dhw_calculation', interface=<Interfaces.FIWARE: 'fiware'>, id_interface='urn:dhw_calculation:10', attributes=[AttributeModel(id='temperature', id_interface='dhw:temperature', type=<AttributeTypes.TIMESERIES: 'timeseries'>, value=None), AttributeModel(id='tapping', id_interface='dhw:tapping', type=<AttributeTypes.TIMESERIES: 'timeseries'>, value=None)])] outputs=[OutputModel(id='dhw_calculation', interface=<Interfaces.FIWARE: 'fiware'>, id_interface='urn:dhw_calculation:10', attributes=[AttributeModel(id='hygienic_status', id_interface='dhw:hygienic_status', type=<AttributeTypes.VALUE: 'value'>, value=None)])] metadata=[] controller_components=[ControllerComponentModel(active=True, id='hygienic_controller', type=<ControllerComponents.HYGIENICCONTROLLER: 'hygienic_controller'>, inputs={'temperature': 'temperature', 'tappings': 'tapping'}, outputs={'hygienic_status': {'output': 'dhw_calculation', 'attribute': 'hygienic_status'}})] controller_settings=ControllerSettingModel(timeranges=TimerangesModel(calculation=TimerangesCalculationModel(timerange=24.0, timerange_min=None, timerange_max=None, timerange_type=<TimerangeTypes.ABSOLUTE: 'absolute'>, timerange_unit=<TimeUnits.MINUTE: 'minute'>), calibration=None))\n",
      "{}\n",
      "[InputModel(id='dhw_calculation', interface=<Interfaces.FIWARE: 'fiware'>, id_interface='urn:dhw_calculation:10', attributes=[AttributeModel(id='temperature', id_interface='dhw:temperature', type=<AttributeTypes.TIMESERIES: 'timeseries'>, value=None), AttributeModel(id='tapping', id_interface='dhw:tapping', type=<AttributeTypes.TIMESERIES: 'timeseries'>, value=None)])]\n",
      "[AttributeModel(id='temperature', id_interface='dhw:temperature', type=<AttributeTypes.TIMESERIES: 'timeseries'>, value=None), AttributeModel(id='tapping', id_interface='dhw:tapping', type=<AttributeTypes.TIMESERIES: 'timeseries'>, value=None)]\n",
      "[ControllerComponentModel(active=True, id='hygienic_controller', type=<ControllerComponents.HYGIENICCONTROLLER: 'hygienic_controller'>, inputs={'temperature': 'temperature', 'tappings': 'tapping'}, outputs={'hygienic_status': {'output': 'dhw_calculation', 'attribute': 'hygienic_status'}})]\n",
      "active=True id='hygienic_controller' type=<ControllerComponents.HYGIENICCONTROLLER: 'hygienic_controller'> inputs={'temperature': 'temperature', 'tappings': 'tapping'} outputs={'hygienic_status': {'output': 'dhw_calculation', 'attribute': 'hygienic_status'}}\n",
      "calculation=TimerangesCalculationModel(timerange=24.0, timerange_min=None, timerange_max=None, timerange_type=<TimerangeTypes.ABSOLUTE: 'absolute'>, timerange_unit=<TimeUnits.MINUTE: 'minute'>) calibration=None\n"
     ]
    }
   ],
   "source": [
    "config = ConfigModel.from_json('config.json')\n",
    "print(config)\n",
    "\n",
    "print(config.interfaces.file)\n",
    "\n",
    "print(config.inputs)\n",
    "\n",
    "print(config.inputs[0].attributes)\n",
    "\n",
    "print(config.controller_components)\n",
    "\n",
    "for controller in config.controller_components:\n",
    "    print(controller)\n",
    "    \n",
    "print(config.controller_settings.timeranges)"
   ]
  },
  {
   "cell_type": "code",
   "execution_count": 5,
   "metadata": {},
   "outputs": [
    {
     "name": "stdout",
     "output_type": "stream",
     "text": [
      "id='test_input' attributes=[InputDataAttributeModel(id='test_attribute', data='test', data_type=<AttributeTypes.VALUE: 'value'>, data_available=True, latest_timestamp_input=datetime.datetime(2024, 8, 16, 11, 55, 13, 936919, tzinfo=datetime.timezone.utc))]\n",
      "id='test_output' attributes=[OutputDataAttributeModel(id='test_attribute', latest_timestamp_output=datetime.datetime(2024, 8, 16, 11, 55, 13, 937922, tzinfo=datetime.timezone.utc))]\n",
      "input_entities=[InputDataEntityModel(id='test_input', attributes=[InputDataAttributeModel(id='test_attribute', data='test', data_type=<AttributeTypes.VALUE: 'value'>, data_available=True, latest_timestamp_input=datetime.datetime(2024, 8, 16, 11, 55, 13, 936919, tzinfo=datetime.timezone.utc))]), InputDataEntityModel(id='test_input', attributes=[InputDataAttributeModel(id='test_attribute', data='test', data_type=<AttributeTypes.VALUE: 'value'>, data_available=True, latest_timestamp_input=datetime.datetime(2024, 8, 16, 11, 55, 13, 936919, tzinfo=datetime.timezone.utc))])] output_entities=[OutputDataEntityModel(id='test_output', attributes=[OutputDataAttributeModel(id='test_attribute', latest_timestamp_output=datetime.datetime(2024, 8, 16, 11, 55, 13, 937922, tzinfo=datetime.timezone.utc))])]\n"
     ]
    }
   ],
   "source": [
    "from controller_software.utils.models import InputDataModel, InputDataEntityModel, OutputDataEntityModel, InputDataAttributeModel, OutputDataAttributeModel\n",
    "from datetime import datetime, timezone\n",
    "\n",
    "\n",
    "input_attribute = InputDataAttributeModel(\n",
    "    id='test_attribute',\n",
    "    data_type='value',\n",
    "    data='test',\n",
    "    data_available=True,\n",
    "    latest_timestamp_input=datetime.now(timezone.utc),\n",
    ")\n",
    "\n",
    "input_entity = InputDataEntityModel(\n",
    "    id='test_input',\n",
    "    attributes=[input_attribute],\n",
    ")\n",
    "print(input_entity)\n",
    "\n",
    "output_attribute = OutputDataAttributeModel(\n",
    "    id='test_attribute',\n",
    "    latest_timestamp_output=datetime.now(timezone.utc),\n",
    ")\n",
    "\n",
    "output_entity = OutputDataEntityModel(\n",
    "    id='test_output',\n",
    "    attributes=[output_attribute],\n",
    ")\n",
    "print(output_entity)\n",
    "\n",
    "data = InputDataModel(\n",
    "    input_entities=[input_entity, input_entity],\n",
    "    output_entities=[output_entity],\n",
    ")\n",
    "print(data)"
   ]
  },
  {
   "cell_type": "code",
   "execution_count": 12,
   "metadata": {},
   "outputs": [
    {
     "name": "stdout",
     "output_type": "stream",
     "text": [
      "[[InputDataAttributeModel(id='test_attribute', data='test', data_type=<AttributeTypes.VALUE: 'value'>, data_available=True, latest_timestamp_input=datetime.datetime(2024, 8, 16, 11, 55, 13, 936919, tzinfo=datetime.timezone.utc))], [InputDataAttributeModel(id='test_attribute', data='test', data_type=<AttributeTypes.VALUE: 'value'>, data_available=True, latest_timestamp_input=datetime.datetime(2024, 8, 16, 11, 55, 13, 936919, tzinfo=datetime.timezone.utc))]]\n",
      "[True, True]\n"
     ]
    }
   ],
   "source": [
    "\n",
    "data_available = [input_entity_1.attributes for input_entity_1 in data.input_entities]\n",
    "print(data_available)\n",
    "\n",
    "data_available = [attribute.data_available for input_entity in data.input_entities for attribute in input_entity.attributes]\n",
    "print(data_available)"
   ]
  }
 ],
 "metadata": {
  "kernelspec": {
   "display_name": "tweflex-services-oZcLNRLO-py3.9",
   "language": "python",
   "name": "python3"
  },
  "language_info": {
   "codemirror_mode": {
    "name": "ipython",
    "version": 3
   },
   "file_extension": ".py",
   "mimetype": "text/x-python",
   "name": "python",
   "nbconvert_exporter": "python",
   "pygments_lexer": "ipython3",
   "version": "3.9.13"
  }
 },
 "nbformat": 4,
 "nbformat_minor": 2
}

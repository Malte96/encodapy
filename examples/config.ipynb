{
 "cells": [
  {
   "cell_type": "code",
   "execution_count": 1,
   "metadata": {},
   "outputs": [],
   "source": [
    "from controller_software.config import ConfigModel"
   ]
  },
  {
   "cell_type": "code",
   "execution_count": 2,
   "metadata": {},
   "outputs": [
    {
     "name": "stderr",
     "output_type": "stream",
     "text": [
      "2024-08-21 13:48:55.102 | DEBUG    | controller_software.config.models:check_timestep_units:198 - No timestep is set - using default value '1'\n",
      "2024-08-21 13:48:55.104 | DEBUG    | controller_software.config.models:check_timestep_units:200 - No timestep unit is set - using default unit 'second'\n",
      "2024-08-21 13:48:55.104 | DEBUG    | controller_software.config.models:check_timestep_units:202 - No sampling time is set - using default value '1'\n",
      "2024-08-21 13:48:55.106 | DEBUG    | controller_software.config.models:check_timestep_units:204 - No sampling time unit is set - using default unit 'minute'\n",
      "2024-08-21 13:48:55.106 | DEBUG    | controller_software.config.models:check_timestep_units:208 - No timerange type is set - using default type 'absolute'\n"
     ]
    },
    {
     "name": "stdout",
     "output_type": "stream",
     "text": [
      "interfaces=InterfaceModel(mqtt=False, fiware=True, file=False) inputs=[InputModel(id='dhw_calculation', interface=<Interfaces.FIWARE: 'fiware'>, id_interface='urn:dhw_calculation:10', attributes=[AttributeModel(id='temperature', id_interface='dhw:temperature', type=<AttributeTypes.TIMESERIES: 'timeseries'>, value=None, datatype=<DataType.NUMBER: 'Number'>, timestamp=None), AttributeModel(id='tapping', id_interface='dhw:tapping', type=<AttributeTypes.TIMESERIES: 'timeseries'>, value=None, datatype=<DataType.NUMBER: 'Number'>, timestamp=None)])] outputs=[OutputModel(id='dhw_calculation', interface=<Interfaces.FIWARE: 'fiware'>, id_interface='urn:dhw_calculation:10', attributes=[AttributeModel(id='hygienic_status', id_interface='dhw:tapping', type=<AttributeTypes.VALUE: 'value'>, value=None, datatype=<DataType.NUMBER: 'Number'>, timestamp=None), AttributeModel(id='hygienic_df', id_interface='dhw:tapping', type=<AttributeTypes.TIMESERIES: 'timeseries'>, value=None, datatype=<DataType.NUMBER: 'Number'>, timestamp=None)], commands=[CommandModel(id='hygienic_status', id_interface='dhw:hygienic_status', value=None)])] metadata=[] controller_components=[ControllerComponentModel(active=True, id='hygienic_controller', type=<ControllerComponents.HYGIENICCONTROLLER: 'hygienic_controller'>, inputs={'temperature': {'entity': 'dhw_calculation', 'attribute': 'temperature'}, 'tappings': {'entity': 'dhw_calculation', 'attribute': 'tapping'}}, outputs={'hygienic_status': {'entity': 'dhw_calculation', 'attribute': 'hygienic_status'}, 'hygienic_data': {'entity': 'dhw_calculation', 'attribute': 'hygienic_df'}}, config={'temperatures': {'warning_limit': 45, 'optimal_limit': 55}, 'time_of_stay': {'stay_limit': 24, 'tapping_limit': 5}})] controller_settings=ControllerSettingModel(time_settings=TimeSettingsModel(calculation=TimeSettingsCalculationModel(timerange=24.0, timerange_min=None, timerange_max=None, timerange_type=<TimerangeTypes.ABSOLUTE: 'absolute'>, timerange_unit=<TimeUnits.HOUR: 'hour'>, timestep=1, timestep_unit=<TimeUnits.SECOND: 'second'>, sampling_time=1, sampling_time_unit=<TimeUnits.MINUTE: 'minute'>), calibration=None, results=TimeSettingsResultsModel(timestep=10, timestep_unit=<TimeUnits.SECOND: 'second'>)))\n",
      "False\n",
      "[InputModel(id='dhw_calculation', interface=<Interfaces.FIWARE: 'fiware'>, id_interface='urn:dhw_calculation:10', attributes=[AttributeModel(id='temperature', id_interface='dhw:temperature', type=<AttributeTypes.TIMESERIES: 'timeseries'>, value=None, datatype=<DataType.NUMBER: 'Number'>, timestamp=None), AttributeModel(id='tapping', id_interface='dhw:tapping', type=<AttributeTypes.TIMESERIES: 'timeseries'>, value=None, datatype=<DataType.NUMBER: 'Number'>, timestamp=None)])]\n",
      "[AttributeModel(id='temperature', id_interface='dhw:temperature', type=<AttributeTypes.TIMESERIES: 'timeseries'>, value=None, datatype=<DataType.NUMBER: 'Number'>, timestamp=None), AttributeModel(id='tapping', id_interface='dhw:tapping', type=<AttributeTypes.TIMESERIES: 'timeseries'>, value=None, datatype=<DataType.NUMBER: 'Number'>, timestamp=None)]\n",
      "[ControllerComponentModel(active=True, id='hygienic_controller', type=<ControllerComponents.HYGIENICCONTROLLER: 'hygienic_controller'>, inputs={'temperature': {'entity': 'dhw_calculation', 'attribute': 'temperature'}, 'tappings': {'entity': 'dhw_calculation', 'attribute': 'tapping'}}, outputs={'hygienic_status': {'entity': 'dhw_calculation', 'attribute': 'hygienic_status'}, 'hygienic_data': {'entity': 'dhw_calculation', 'attribute': 'hygienic_df'}}, config={'temperatures': {'warning_limit': 45, 'optimal_limit': 55}, 'time_of_stay': {'stay_limit': 24, 'tapping_limit': 5}})]\n",
      "active=True id='hygienic_controller' type=<ControllerComponents.HYGIENICCONTROLLER: 'hygienic_controller'> inputs={'temperature': {'entity': 'dhw_calculation', 'attribute': 'temperature'}, 'tappings': {'entity': 'dhw_calculation', 'attribute': 'tapping'}} outputs={'hygienic_status': {'entity': 'dhw_calculation', 'attribute': 'hygienic_status'}, 'hygienic_data': {'entity': 'dhw_calculation', 'attribute': 'hygienic_df'}} config={'temperatures': {'warning_limit': 45, 'optimal_limit': 55}, 'time_of_stay': {'stay_limit': 24, 'tapping_limit': 5}}\n",
      "calculation=TimeSettingsCalculationModel(timerange=24.0, timerange_min=None, timerange_max=None, timerange_type=<TimerangeTypes.ABSOLUTE: 'absolute'>, timerange_unit=<TimeUnits.HOUR: 'hour'>, timestep=1, timestep_unit=<TimeUnits.SECOND: 'second'>, sampling_time=1, sampling_time_unit=<TimeUnits.MINUTE: 'minute'>) calibration=None results=TimeSettingsResultsModel(timestep=10, timestep_unit=<TimeUnits.SECOND: 'second'>)\n"
     ]
    }
   ],
   "source": [
    "config = ConfigModel.from_json('config.json')\n",
    "print(config)\n",
    "\n",
    "print(config.interfaces.file)\n",
    "\n",
    "print(config.inputs)\n",
    "\n",
    "print(config.inputs[0].attributes)\n",
    "\n",
    "print(config.controller_components)\n",
    "\n",
    "for controller in config.controller_components:\n",
    "    print(controller)\n",
    "    \n",
    "print(config.controller_settings.time_settings)"
   ]
  },
  {
   "cell_type": "code",
   "execution_count": 3,
   "metadata": {},
   "outputs": [
    {
     "name": "stdout",
     "output_type": "stream",
     "text": [
      "id='test_input' attributes=[InputDataAttributeModel(id='test_attribute', data='test', data_type=<AttributeTypes.VALUE: 'value'>, data_available=True, latest_timestamp_input=datetime.datetime(2024, 8, 21, 11, 48, 55, 132848, tzinfo=datetime.timezone.utc))]\n",
      "id='test_output' attributes=[] attributes_status=[OutputDataAttributeModel(id='test_attribute', latest_timestamp_output=datetime.datetime(2024, 8, 21, 11, 48, 55, 132848, tzinfo=datetime.timezone.utc))] commands=[]\n",
      "input_entities=[InputDataEntityModel(id='test_input', attributes=[InputDataAttributeModel(id='test_attribute', data='test', data_type=<AttributeTypes.VALUE: 'value'>, data_available=True, latest_timestamp_input=datetime.datetime(2024, 8, 21, 11, 48, 55, 132848, tzinfo=datetime.timezone.utc))]), InputDataEntityModel(id='test_input', attributes=[InputDataAttributeModel(id='test_attribute', data='test', data_type=<AttributeTypes.VALUE: 'value'>, data_available=True, latest_timestamp_input=datetime.datetime(2024, 8, 21, 11, 48, 55, 132848, tzinfo=datetime.timezone.utc))])] output_entities=[OutputDataEntityModel(id='test_output', attributes=[], attributes_status=[OutputDataAttributeModel(id='test_attribute', latest_timestamp_output=datetime.datetime(2024, 8, 21, 11, 48, 55, 132848, tzinfo=datetime.timezone.utc))], commands=[])]\n"
     ]
    }
   ],
   "source": [
    "from controller_software.utils.models import InputDataModel, InputDataEntityModel, OutputDataEntityModel, InputDataAttributeModel, OutputDataAttributeModel\n",
    "from datetime import datetime, timezone\n",
    "\n",
    "\n",
    "input_attribute = InputDataAttributeModel(\n",
    "    id='test_attribute',\n",
    "    data_type='value',\n",
    "    data='test',\n",
    "    data_available=True,\n",
    "    latest_timestamp_input=datetime.now(timezone.utc),\n",
    ")\n",
    "\n",
    "input_entity = InputDataEntityModel(\n",
    "    id='test_input',\n",
    "    attributes=[input_attribute],\n",
    ")\n",
    "print(input_entity)\n",
    "\n",
    "output_attribute = OutputDataAttributeModel(\n",
    "    id='test_attribute',\n",
    "    latest_timestamp_output=datetime.now(timezone.utc),\n",
    ")\n",
    "\n",
    "output_entity = OutputDataEntityModel(\n",
    "    id='test_output',\n",
    "    attributes_status=[output_attribute],\n",
    ")\n",
    "print(output_entity)\n",
    "\n",
    "data = InputDataModel(\n",
    "    input_entities=[input_entity, input_entity],\n",
    "    output_entities=[output_entity],\n",
    ")\n",
    "print(data)"
   ]
  },
  {
   "cell_type": "code",
   "execution_count": 4,
   "metadata": {},
   "outputs": [
    {
     "name": "stdout",
     "output_type": "stream",
     "text": [
      "[[InputDataAttributeModel(id='test_attribute', data='test', data_type=<AttributeTypes.VALUE: 'value'>, data_available=True, latest_timestamp_input=datetime.datetime(2024, 8, 21, 11, 48, 55, 132848, tzinfo=datetime.timezone.utc))], [InputDataAttributeModel(id='test_attribute', data='test', data_type=<AttributeTypes.VALUE: 'value'>, data_available=True, latest_timestamp_input=datetime.datetime(2024, 8, 21, 11, 48, 55, 132848, tzinfo=datetime.timezone.utc))]]\n",
      "[True, True]\n"
     ]
    }
   ],
   "source": [
    "\n",
    "data_available = [input_entity_1.attributes for input_entity_1 in data.input_entities]\n",
    "print(data_available)\n",
    "\n",
    "data_available = [attribute.data_available for input_entity in data.input_entities for attribute in input_entity.attributes]\n",
    "print(data_available)"
   ]
  }
 ],
 "metadata": {
  "kernelspec": {
   "display_name": "tweflex-services-oZcLNRLO-py3.9",
   "language": "python",
   "name": "python3"
  },
  "language_info": {
   "codemirror_mode": {
    "name": "ipython",
    "version": 3
   },
   "file_extension": ".py",
   "mimetype": "text/x-python",
   "name": "python",
   "nbconvert_exporter": "python",
   "pygments_lexer": "ipython3",
   "version": "3.9.13"
  }
 },
 "nbformat": 4,
 "nbformat_minor": 2
}

{
 "cells": [
  {
   "cell_type": "code",
   "execution_count": 1,
   "metadata": {},
   "outputs": [],
   "source": [
    "from controller_software.config import ConfigModel"
   ]
  },
  {
   "cell_type": "code",
   "execution_count": 2,
   "metadata": {},
   "outputs": [
    {
     "name": "stdout",
     "output_type": "stream",
     "text": [
      "interfaces=InterfaceModel(mqtt=True, fiware=True, file={'path': 'example.json'}) inputs=[InputModel(id='test', interface=<Interfaces.MQTT: 'mqtt'>, id_interface='test', attributes=[AttributeModel(id='example', id_interface='test', type=<AttributeTypes.VALUE: 'value'>, value=None)])] outputs=[OutputModel(id='test', interface=<Interfaces.MQTT: 'mqtt'>, id_interface='test', attributes=[AttributeModel(id='example', id_interface='test', type=<AttributeTypes.VALUE: 'value'>, value=None)])] metadata=[] controller_components=[ControllerComponentModel(id='storage', type=<ControllerComponents.STORAGE: 'storage'>, inputs=[], outputs=[])] controller_settings={}\n",
      "{'path': 'example.json'}\n",
      "[InputModel(id='test', interface=<Interfaces.MQTT: 'mqtt'>, id_interface='test', attributes=[AttributeModel(id='example', id_interface='test', type=<AttributeTypes.VALUE: 'value'>, value=None)])]\n",
      "[AttributeModel(id='example', id_interface='test', type=<AttributeTypes.VALUE: 'value'>, value=None)]\n",
      "[ControllerComponentModel(id='storage', type=<ControllerComponents.STORAGE: 'storage'>, inputs=[], outputs=[])]\n"
     ]
    }
   ],
   "source": [
    "config = ConfigModel.from_json('config.json')\n",
    "print(config)\n",
    "\n",
    "print(config.interfaces.file)\n",
    "\n",
    "print(config.inputs)\n",
    "\n",
    "print(config.inputs[0].attributes)\n",
    "\n",
    "print(config.controller_components)"
   ]
  }
 ],
 "metadata": {
  "kernelspec": {
   "display_name": "tweflex-services-oZcLNRLO-py3.9",
   "language": "python",
   "name": "python3"
  },
  "language_info": {
   "codemirror_mode": {
    "name": "ipython",
    "version": 3
   },
   "file_extension": ".py",
   "mimetype": "text/x-python",
   "name": "python",
   "nbconvert_exporter": "python",
   "pygments_lexer": "ipython3",
   "version": "3.9.13"
  }
 },
 "nbformat": 4,
 "nbformat_minor": 2
}
